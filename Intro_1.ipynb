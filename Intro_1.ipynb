{
  "nbformat": 4,
  "nbformat_minor": 0,
  "metadata": {
    "colab": {
      "provenance": [],
      "authorship_tag": "ABX9TyNHjPW8fmLFnvtooo8Tb/eL",
      "include_colab_link": true
    },
    "kernelspec": {
      "name": "python3",
      "display_name": "Python 3"
    },
    "language_info": {
      "name": "python"
    }
  },
  "cells": [
    {
      "cell_type": "markdown",
      "metadata": {
        "id": "view-in-github",
        "colab_type": "text"
      },
      "source": [
        "<a href=\"https://colab.research.google.com/github/sanjeevtrivedi/pgd-aids/blob/main/Intro_1.ipynb\" target=\"_parent\"><img src=\"https://colab.research.google.com/assets/colab-badge.svg\" alt=\"Open In Colab\"/></a>"
      ]
    },
    {
      "cell_type": "code",
      "execution_count": null,
      "metadata": {
        "colab": {
          "base_uri": "https://localhost:8080/"
        },
        "id": "zvuMMX0qpiHb",
        "outputId": "5af7b901-08b6-4cdf-dde8-75d257c67163"
      },
      "outputs": [
        {
          "output_type": "stream",
          "name": "stdout",
          "text": [
            "0.004616975784301758\n",
            "4938.000494036907\n",
            "4938.000494036897\n",
            "0.00019741058349609375\n"
          ]
        }
      ],
      "source": [
        "import numpy as np\n",
        "import time as time\n",
        "\n",
        "n = 100\n",
        "A = np.random.rand(n, n)\n",
        "\n",
        "start = time.time()\n",
        "\n",
        "s1 = 0\n",
        "for i in range(n):\n",
        "  for j in range(n):\n",
        "    s1 = s1 + A[i, j]\n",
        "\n",
        "end = time.time()\n",
        "print(end - start)\n",
        "print(s1)\n",
        "\n",
        "start = time.time()\n",
        "s2 = A.sum()\n",
        "print(s2)\n",
        "\n",
        "end = time.time()\n",
        "print(end - start)"
      ]
    },
    {
      "cell_type": "code",
      "source": [
        "name = input(\"What is you name?\\n\")\n",
        "\n",
        "print(\"Hello \" + name)\n",
        "print(type(name))"
      ],
      "metadata": {
        "colab": {
          "base_uri": "https://localhost:8080/"
        },
        "id": "Bgm6cD_62EWp",
        "outputId": "567376fa-88c0-4876-cd95-543184d82c40"
      },
      "execution_count": null,
      "outputs": [
        {
          "output_type": "stream",
          "name": "stdout",
          "text": [
            "What is you name?\n",
            "Sanjeev\n",
            "Hello Sanjeev\n",
            "<class 'str'>\n"
          ]
        }
      ]
    },
    {
      "cell_type": "code",
      "source": [
        "name = 'sanjeev'\n",
        "age = 10\n",
        "workingProfessional = True\n",
        "with open('tmpfile.txt', 'w') as file:\n",
        "  file.write(str(age) + '\\n')\n",
        "  file.write(str(name) + '\\n')\n",
        "  file.write(str(workingProfessional) + '\\n')"
      ],
      "metadata": {
        "id": "Jc1ng7KN2zUo"
      },
      "execution_count": null,
      "outputs": []
    },
    {
      "cell_type": "code",
      "source": [
        "with open('tmpfile.txt', 'r') as file:\n",
        "  for line in file:\n",
        "    print(line.strip())"
      ],
      "metadata": {
        "colab": {
          "base_uri": "https://localhost:8080/"
        },
        "id": "-6F-c6Mk4VIg",
        "outputId": "c5319db6-9c81-44ab-93be-4cc09baa47a3"
      },
      "execution_count": null,
      "outputs": [
        {
          "output_type": "stream",
          "name": "stdout",
          "text": [
            "10\n",
            "sanjeev\n",
            "True\n"
          ]
        }
      ]
    },
    {
      "cell_type": "code",
      "source": [
        "name = 'Sanjeev Trivedi'\n",
        "length = len(name)\n",
        "print(length)\n",
        "\n",
        "a = [1, 2, 3, 4, 5]\n",
        "print(a[0 : 3])\n",
        "print(a[-3])\n",
        "print(a[-3 : -1])"
      ],
      "metadata": {
        "colab": {
          "base_uri": "https://localhost:8080/"
        },
        "id": "VM01M8y94yXt",
        "outputId": "5d5aa446-86df-433e-8613-738bea9d4860"
      },
      "execution_count": null,
      "outputs": [
        {
          "output_type": "stream",
          "name": "stdout",
          "text": [
            "15\n",
            "[1, 2, 3]\n",
            "3\n",
            "[3, 4]\n"
          ]
        }
      ]
    },
    {
      "cell_type": "code",
      "source": [
        "a = {1, \"sanjeev\", 100, True}\n",
        "list(a)\n",
        "\n",
        "# These expressions evaluate to True\n",
        "True == 1\n",
        "int(True) == 1\n",
        "hash(True) == hash(1)\n"
      ],
      "metadata": {
        "colab": {
          "base_uri": "https://localhost:8080/"
        },
        "id": "WDRZlED68w03",
        "outputId": "bde2ea17-ce4b-4634-9308-e61d5ccc3e71"
      },
      "execution_count": null,
      "outputs": [
        {
          "output_type": "execute_result",
          "data": {
            "text/plain": [
              "True"
            ]
          },
          "metadata": {},
          "execution_count": 25
        }
      ]
    },
    {
      "cell_type": "code",
      "source": [
        "iop = {\n",
        "    \"instructors\": [{\"Name\": \"Prof. Abir\",\n",
        "                     \"Age\" : 30,\n",
        "                     \"Profession\": \"teaching 1\"}\n",
        "                    ,\n",
        "                    {\"Name\": \"Prof. Vinay\",\n",
        "                     \"Age\" : 20,\n",
        "                     \"Profession\": \"teaching 2\"\n",
        "                     }]\n",
        "    ,\n",
        "    \"TAs\": [{\"Name\": \"Ninad\",\n",
        "             \"Age\": 20,\n",
        "             \"Profession\": \"student\"}\n",
        "            ,\n",
        "            {\n",
        "            \"Name\": \"Naveen\",\n",
        "             \"Age\": 22,\n",
        "             \"Profession\": \"research\"\n",
        "            }]\n",
        "}\n",
        "\n",
        "ins_name = [instructors[\"Name\"] for instructors in iop[\"instructors\"]]\n",
        "print(ins_name)\n",
        "\n",
        "ins_name2 = list(map(lambda x: x[\"Name\"], iop[\"instructors\"]))\n",
        "print(ins_name2)\n"
      ],
      "metadata": {
        "colab": {
          "base_uri": "https://localhost:8080/"
        },
        "id": "2sjieqjO-WcC",
        "outputId": "dae42743-b7ad-4451-e774-da119dff64ac"
      },
      "execution_count": null,
      "outputs": [
        {
          "output_type": "stream",
          "name": "stdout",
          "text": [
            "['Prof. Abir', 'Prof. Vinay']\n"
          ]
        }
      ]
    },
    {
      "cell_type": "code",
      "source": [
        "iop = {\n",
        "    \"instructors\": [{\"Name\": \"Prof. Abir\",\n",
        "                     \"Age\" : 30,\n",
        "                     \"Profession\": \"teaching 1\",\n",
        "                     \"Hobby\" : \"trecking\"\n",
        "                     }\n",
        "                    ,\n",
        "                    {\"Name\": \"Prof. Vinay\",\n",
        "                     \"Age\" : 20,\n",
        "                     \"Profession\": \"teaching 2\",\n",
        "                     \"Hobby\" : \"trecking\"\n",
        "                     }]\n",
        "    ,\n",
        "    \"TAs\": [{\"Name\": \"Ninad\",\n",
        "             \"Age\": 20,\n",
        "             \"Profession\": \"student\"\n",
        "             }\n",
        "            ,\n",
        "            {\n",
        "            \"Name\": \"Naveen\",\n",
        "             \"Age\": 22,\n",
        "             \"Profession\": \"research\",\n",
        "             \"Hobby\" : \"reading\"\n",
        "            }]\n",
        "}\n",
        "\n",
        "ins_name = [instructors[\"Name\"] for instructors in iop[\"instructors\"]]\n",
        "print(ins_name)\n",
        "\n",
        "ins_name = list(map(lambda x: x[\"Name\"], iop[\"TAs\"]))\n",
        "print(ins_name)\n",
        "\n",
        "#Better to use 'get' on dictnary\n",
        "ins_name = list(map(lambda x: x.get(\"Name\"), iop[\"TAs\"]))\n",
        "print(ins_name)\n",
        "\n",
        "# Using filter to exclude entries where \"Hobby\" is None\n",
        "ins_name = list( map(lambda x: x.get(\"Hobby\"), (filter(lambda x: x.get(\"Hobby\") is not None, iop[\"TAs\"]))) )\n",
        "print(ins_name)\n",
        "\n",
        "# Using map to get the \"Hobby\" values, including None for missing keys\n",
        "ins_name = list(map(lambda x: x.get(\"Hobby\"), iop[\"TAs\"]))\n",
        "print(ins_name)\n",
        "\n",
        "print(\"----------------------\")\n",
        "\n",
        "print(iop.keys())\n",
        "arr_ins = iop.get('instructors')[0]\n",
        "print(arr_ins)\n",
        "print(arr_ins.get('Name'))\n",
        "\n",
        "print(\"----------------------\")"
      ],
      "metadata": {
        "id": "QtmG6CI5MkF9"
      },
      "execution_count": null,
      "outputs": []
    },
    {
      "cell_type": "markdown",
      "source": [
        "# New Section"
      ],
      "metadata": {
        "id": "a-7CsWeQYPdl"
      }
    }
  ]
}