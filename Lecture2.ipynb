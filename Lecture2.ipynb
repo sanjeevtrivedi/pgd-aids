{
  "nbformat": 4,
  "nbformat_minor": 0,
  "metadata": {
    "colab": {
      "provenance": [],
      "collapsed_sections": [
        "bdtfAyo4iqyb",
        "jRAuNO00MriV"
      ],
      "include_colab_link": true
    },
    "kernelspec": {
      "name": "python3",
      "display_name": "Python 3"
    },
    "language_info": {
      "name": "python"
    }
  },
  "cells": [
    {
      "cell_type": "markdown",
      "metadata": {
        "id": "view-in-github",
        "colab_type": "text"
      },
      "source": [
        "<a href=\"https://colab.research.google.com/github/sanjeevtrivedi/pgd-aids/blob/main/Lecture2.ipynb\" target=\"_parent\"><img src=\"https://colab.research.google.com/assets/colab-badge.svg\" alt=\"Open In Colab\"/></a>"
      ]
    },
    {
      "cell_type": "markdown",
      "source": [
        "# Welcome to the 'Python Programming Language'!\n",
        "This unit is an introduction to the most basic concepts and features of the Python programming language\n",
        "It covers : Variables, the basic Data Types, basic mathematical operations\n",
        "\n",
        "In addition, this unit also covers basic i/o operations\n",
        "such as interactive input, print, and file I/O\n"
      ],
      "metadata": {
        "id": "B99sOaF9MriL"
      }
    },
    {
      "cell_type": "code",
      "source": [
        "import numpy as np\n",
        "a = np.array([[1,2],\n",
        "              [4,5],\n",
        "              [7,8],\n",
        "              [10,11]])\n",
        "print(a.sum(axis=1))"
      ],
      "metadata": {
        "colab": {
          "base_uri": "https://localhost:8080/"
        },
        "id": "fmuFEfJvKEm0",
        "outputId": "6aa673a8-e94e-424c-a261-d4293c146b57"
      },
      "execution_count": null,
      "outputs": [
        {
          "output_type": "stream",
          "name": "stdout",
          "text": [
            "[ 3  9 15 21]\n"
          ]
        }
      ]
    },
    {
      "cell_type": "code",
      "source": [
        "# BTW, in a Python program any sequence after a '#' is a comment (like this line)\n",
        "#   and it is ignored during program execution!!\n",
        "\n",
        "''' Talking about comments ... multiple line comments can be written within triple quotes\n",
        "as shown here\n",
        "'''\n",
        "''' hello '''"
      ],
      "metadata": {
        "id": "wILxbd4qMriP",
        "colab": {
          "base_uri": "https://localhost:8080/",
          "height": 35
        },
        "outputId": "1070d57a-87f0-41a9-c228-dff200c994fe"
      },
      "execution_count": null,
      "outputs": [
        {
          "output_type": "execute_result",
          "data": {
            "text/plain": [
              "' hello '"
            ],
            "application/vnd.google.colaboratory.intrinsic+json": {
              "type": "string"
            }
          },
          "metadata": {},
          "execution_count": 1
        }
      ]
    },
    {
      "cell_type": "code",
      "source": [],
      "metadata": {
        "id": "alBHaFPLZaYQ"
      },
      "execution_count": null,
      "outputs": []
    },
    {
      "cell_type": "code",
      "source": [
        "import time as time\n",
        "import numpy as np\n",
        "\n",
        "n=1000\n",
        "\n",
        "A = np.random.rand(n,n)\n",
        "\n",
        "tStart = time.time()\n",
        "a = A.sum()\n",
        "tEnd = time.time()\n",
        "\n",
        "\n",
        "print(tEnd-tStart)"
      ],
      "metadata": {
        "colab": {
          "base_uri": "https://localhost:8080/"
        },
        "id": "f4_mUN_JcevM",
        "outputId": "6162a9a8-cf6c-4458-a7ab-b0439af92d3c"
      },
      "execution_count": null,
      "outputs": [
        {
          "output_type": "stream",
          "name": "stdout",
          "text": [
            "0.001466512680053711\n"
          ]
        }
      ]
    },
    {
      "cell_type": "code",
      "source": [],
      "metadata": {
        "id": "tgGSqb6q1SRj"
      },
      "execution_count": null,
      "outputs": []
    },
    {
      "cell_type": "markdown",
      "source": [
        "# What is a variable?\n",
        "Variables in Python (... or, in any programming language) are 'containers', that are used to store data.\n",
        "Variables are given names, which are known as identifiers.\n",
        "So, what, really, are variables, and what are identifiers?\n",
        "\n",
        "In Python an identifier can consist of:\n",
        "- Upper and lowercase letters of the alphabet, underscores, and digits 0 to 9.\n"
      ],
      "metadata": {
        "id": "yAoalV4RMriQ"
      }
    },
    {
      "cell_type": "code",
      "source": [
        "tStart = time.time()\n",
        "\n",
        "s= 0\n",
        "for i in range(n):\n",
        "  for j in range(n):\n",
        "    A[i,j] = A[i,j] +s\n",
        "tEnd = time.time()\n",
        "\n",
        "print(tEnd-tStart)\n"
      ],
      "metadata": {
        "colab": {
          "base_uri": "https://localhost:8080/"
        },
        "id": "6e9dOb4qeFDK",
        "outputId": "0616102b-ed2e-47b6-ccfb-8a71645cd3a6"
      },
      "execution_count": null,
      "outputs": [
        {
          "output_type": "stream",
          "name": "stdout",
          "text": [
            "0.5037224292755127\n"
          ]
        }
      ]
    },
    {
      "cell_type": "code",
      "source": [
        "import numpy as np\n",
        "\n",
        "A = np.random.rand(100,100)"
      ],
      "metadata": {
        "id": "hnJGab7Prfr5"
      },
      "execution_count": null,
      "outputs": []
    },
    {
      "cell_type": "code",
      "source": [],
      "metadata": {
        "id": "8HfXmT8prfvY"
      },
      "execution_count": null,
      "outputs": []
    },
    {
      "cell_type": "code",
      "execution_count": null,
      "metadata": {
        "id": "Q3zi4wbJMriQ"
      },
      "outputs": [],
      "source": [
        "# Examples of variables / identifiers\n",
        "# Variables can be of various 'types' as enumerated below and further explained later\n",
        "\n",
        "v1 = \"the first variable of this course!\"   # string\n",
        "v2 = 2023.8                                 # float\n",
        "v3 = True                                   # boolean\n",
        "v4 = [1,2,3,4,5]                            # list\n",
        "v5 = (1,2,3,4,5)                            # tuple\n",
        "v6 = {\"name\": \"Aditi\", \"age\": 25}           # dictionary\n",
        "v7 = {1,2,3,4,5}                            # set\n",
        "v8 = 3                                      # int i.e. integer\n",
        "v9 = 0b1010                                 # binary ... essentially an int\n",
        "v10 = 0o17                                  # octal ... essentially an int\n",
        "v11 = 0x1F                                  # hexadecimal ...  essentially an int\n",
        "v12 = None                                  # None\n"
      ]
    },
    {
      "cell_type": "code",
      "source": [
        "v1 = \"the first variable of this course!\"   # string\n",
        "v1 =  5.2\n",
        "v4 = [9,6, 1, 4, 2, 0, 100]\n",
        "v4.append(6)\n",
        "# print(v4)\n",
        "print(v4[3])"
      ],
      "metadata": {
        "colab": {
          "base_uri": "https://localhost:8080/"
        },
        "id": "Xzmvk71gxVpD",
        "outputId": "d8ff704e-6963-4f31-c53b-4c6f4dd5ac81"
      },
      "execution_count": null,
      "outputs": [
        {
          "output_type": "stream",
          "name": "stdout",
          "text": [
            "4\n"
          ]
        }
      ]
    },
    {
      "cell_type": "code",
      "source": [
        "v6 = {\"name\":\"Abir\", \"age\": 100, \"profession\": \"teaching\"}\n",
        "v6[\"name\"]\n",
        "v6[\"age\"]\n",
        "\n",
        "\n",
        "instructorsOfProgramming = {\n",
        "  \"instructors\": [\n",
        "      {\"name\":\"Abir\", \"age\": 100, \"profession\": \"teaching\"},\n",
        "      {\"name\":\"Vinay\", \"age\": 100, \"profession\": \"teaching\"}\n",
        "  ],\n",
        "  \"TAs\": [\n",
        "      {\"name\":\"Ninad\", \"age\": 20, \"profession\": \"student\"},\n",
        "      {\"name\":\"Harsha\", \"age\": 20, \"profession\": \"research\", \"hobby\": \"reading\"}\n",
        "  ]\n",
        "}"
      ],
      "metadata": {
        "id": "t656s0eLymMS"
      },
      "execution_count": null,
      "outputs": []
    },
    {
      "cell_type": "code",
      "source": [
        "instructorsOfProgramming = {\n",
        "  \"instructors\": [\n",
        "      {\"name\":\"Abir\", \"age\": 100, \"profession\": \"teaching\"},\n",
        "      {\"name\":\"Vinay\", \"age\": 100, \"profession\": \"teaching\"}\n",
        "  ],\n",
        "  \"TAs\": [\n",
        "      {\"name\":\"Ninad\", \"age\": 20, \"profession\": \"student\"},\n",
        "      {\"name\":\"Harsha\", \"age\": 20, \"profession\": \"research\", \"hobby\": \"reading\"}\n",
        "  ]\n",
        "}\n",
        "\n",
        "instructors = instructorsOfProgramming[\"instructors\"]\n",
        "instructor_names = [i[\"name\"] for i in instructors]\n",
        "print(instructors)\n",
        "print(instructor_names)\n",
        "\n",
        "new_list = []\n",
        "for i in instructors:\n",
        "  new_list.append(f\"{i['name']}'s Profession is {i['profession']}\\n\")\n",
        "  # new_list.append(i['name'] + \"'s Profession is \" + {i['profession']} + \"\\n\")\n",
        "\n",
        "ages = [f\"{i['name']}'s age is {i['age']} years\\n\" for i in instructors]\n",
        "professions = [f\"{i['name']}'s Profession is {i['profession']}\\n\" for i in instructors]\n",
        "tas = instructorsOfProgramming[\"TAs\"]\n",
        "\n",
        "# print(instructor_names)\n",
        "# print(tas)\n",
        "\n",
        "with open(\"variables.txt\", \"w\") as file:\n",
        "  file.write(\"Instructors are \"+\" and \".join(instructor_names) +\"\\n\")\n",
        "  file.write(\"\".join(ages))\n",
        "  file.write(\"\".join(professions))\n",
        "\n",
        "with open(\"variables.txt\", \"r\") as f:\n",
        "    data = f.read()\n",
        "    # print(data)"
      ],
      "metadata": {
        "colab": {
          "base_uri": "https://localhost:8080/"
        },
        "id": "KDWpOjUf1gRo",
        "outputId": "a311366f-b51c-4bea-ce31-ab4992f8c6a8"
      },
      "execution_count": null,
      "outputs": [
        {
          "output_type": "stream",
          "name": "stdout",
          "text": [
            "[{'name': 'Abir', 'age': 100, 'profession': 'teaching'}, {'name': 'Vinay', 'age': 100, 'profession': 'teaching'}]\n",
            "['Abir', 'Vinay']\n"
          ]
        }
      ]
    },
    {
      "cell_type": "code",
      "source": [
        "instructorsOfProgramming"
      ],
      "metadata": {
        "colab": {
          "base_uri": "https://localhost:8080/"
        },
        "id": "bGK-Hf7Gz95x",
        "outputId": "89d6d213-7deb-46cf-f5f1-41bdd7561b32"
      },
      "execution_count": null,
      "outputs": [
        {
          "output_type": "execute_result",
          "data": {
            "text/plain": [
              "{'instructors': [{'name': 'Abir', 'age': 100, 'profession': 'teaching'},\n",
              "  {'name': 'Vinay', 'age': 100, 'profession': 'teaching'}],\n",
              " 'TAs': [{'name': 'Ninad', 'age': 20, 'profession': 'student'},\n",
              "  {'name': 'Harsha', 'age': 20, 'profession': 'research', 'hobby': 'reading'}]}"
            ]
          },
          "metadata": {},
          "execution_count": 25
        }
      ]
    },
    {
      "cell_type": "code",
      "source": [
        "v6 = {\"name\":\"Abir\", \"age\": 100, \"profession\": \"teaching\"}\n",
        "keysList = [\"name\", \"age\"]\n",
        "v6.keys()\n",
        "### no for loop"
      ],
      "metadata": {
        "colab": {
          "base_uri": "https://localhost:8080/"
        },
        "id": "8AEyu0If9dgy",
        "outputId": "a4a2a01c-f68b-4fa1-c763-5297fc4b803f"
      },
      "execution_count": null,
      "outputs": [
        {
          "output_type": "execute_result",
          "data": {
            "text/plain": [
              "dict_keys(['name', 'age', 'profession'])"
            ]
          },
          "metadata": {},
          "execution_count": 19
        }
      ]
    },
    {
      "cell_type": "code",
      "source": [],
      "metadata": {
        "id": "-ceOeDuR0cYn"
      },
      "execution_count": null,
      "outputs": []
    },
    {
      "cell_type": "code",
      "source": [
        "instructorsOfProgramming['TAs'][1]['profession']"
      ],
      "metadata": {
        "colab": {
          "base_uri": "https://localhost:8080/",
          "height": 35
        },
        "id": "K3dfouGO0T8P",
        "outputId": "c1fcb3b7-d61b-464d-8e43-9661adda9af7"
      },
      "execution_count": null,
      "outputs": [
        {
          "output_type": "execute_result",
          "data": {
            "text/plain": [
              "'research'"
            ],
            "application/vnd.google.colaboratory.intrinsic+json": {
              "type": "string"
            }
          },
          "metadata": {},
          "execution_count": 28
        }
      ]
    },
    {
      "cell_type": "code",
      "execution_count": null,
      "metadata": {
        "id": "ywnqqGl8MriR"
      },
      "outputs": [],
      "source": [
        "# Introducing the simplest way to print the value of a variable ... and also your introduction to a 'function'!\n",
        "# A function is a reusable piece of code that can be repeatedly called to perform a specific task\n",
        "# In the following statements, we are calling, or 'invoking' the 'print' function\n",
        "# More about 'defining' functions in later modules ... till then we just use them\n",
        "\n",
        "print(v1, v2, v3, v4, v5, v6)\n",
        "print(v7, v8, v9, v10, v11, v12)"
      ]
    },
    {
      "cell_type": "markdown",
      "source": [
        "### Data Types in Python\n"
      ],
      "metadata": {
        "id": "wQ2K3LDYMriR"
      }
    },
    {
      "cell_type": "markdown",
      "source": [
        "\n",
        "\n",
        "```\n",
        "# This is formatted as code\n",
        "```\n",
        "\n",
        "Python supports various built-in data types, such as int, float, str, bool, complex, list, tuple, set, and dict.\n",
        "They can also be classified into the following categories:\n",
        "- Numeric types, Sequence types, Set types, Mapping types, Boolean types, Binary type and None type\n",
        "\n",
        "There are also user-defined data types that can be a combination of built-in data types ...\n",
        "In this exercise we are only interested in the built-in data types"
      ],
      "metadata": {
        "id": "dZ5LzeDsdQha"
      }
    },
    {
      "cell_type": "code",
      "execution_count": null,
      "metadata": {
        "id": "EIZSOPGJMriR",
        "colab": {
          "base_uri": "https://localhost:8080/",
          "height": 176
        },
        "outputId": "864d5e56-1fe7-4da0-f06a-40e9fc6f1115"
      },
      "outputs": [
        {
          "output_type": "error",
          "ename": "NameError",
          "evalue": "name 'v1' is not defined",
          "traceback": [
            "\u001b[0;31m---------------------------------------------------------------------------\u001b[0m",
            "\u001b[0;31mNameError\u001b[0m                                 Traceback (most recent call last)",
            "\u001b[0;32m<ipython-input-4-3f4494906f11>\u001b[0m in \u001b[0;36m<cell line: 0>\u001b[0;34m()\u001b[0m\n\u001b[1;32m      1\u001b[0m \u001b[0;31m# Lets print out the 'type' of every variable defined above\u001b[0m\u001b[0;34m\u001b[0m\u001b[0;34m\u001b[0m\u001b[0m\n\u001b[0;32m----> 2\u001b[0;31m \u001b[0mprint\u001b[0m\u001b[0;34m(\u001b[0m\u001b[0mtype\u001b[0m\u001b[0;34m(\u001b[0m\u001b[0mv1\u001b[0m\u001b[0;34m)\u001b[0m\u001b[0;34m,\u001b[0m \u001b[0mtype\u001b[0m\u001b[0;34m(\u001b[0m\u001b[0mv2\u001b[0m\u001b[0;34m)\u001b[0m\u001b[0;34m,\u001b[0m \u001b[0mtype\u001b[0m\u001b[0;34m(\u001b[0m\u001b[0mv3\u001b[0m\u001b[0;34m)\u001b[0m\u001b[0;34m,\u001b[0m \u001b[0mtype\u001b[0m\u001b[0;34m(\u001b[0m\u001b[0mv4\u001b[0m\u001b[0;34m)\u001b[0m\u001b[0;34m,\u001b[0m \u001b[0mtype\u001b[0m\u001b[0;34m(\u001b[0m\u001b[0mv5\u001b[0m\u001b[0;34m)\u001b[0m\u001b[0;34m,\u001b[0m \u001b[0mtype\u001b[0m\u001b[0;34m(\u001b[0m\u001b[0mv6\u001b[0m\u001b[0;34m)\u001b[0m\u001b[0;34m)\u001b[0m\u001b[0;34m\u001b[0m\u001b[0;34m\u001b[0m\u001b[0m\n\u001b[0m\u001b[1;32m      3\u001b[0m \u001b[0mprint\u001b[0m\u001b[0;34m(\u001b[0m\u001b[0mtype\u001b[0m\u001b[0;34m(\u001b[0m\u001b[0mv7\u001b[0m\u001b[0;34m)\u001b[0m\u001b[0;34m,\u001b[0m \u001b[0mtype\u001b[0m\u001b[0;34m(\u001b[0m\u001b[0mv8\u001b[0m\u001b[0;34m)\u001b[0m\u001b[0;34m,\u001b[0m \u001b[0mtype\u001b[0m\u001b[0;34m(\u001b[0m\u001b[0mv9\u001b[0m\u001b[0;34m)\u001b[0m\u001b[0;34m,\u001b[0m \u001b[0mtype\u001b[0m\u001b[0;34m(\u001b[0m\u001b[0mv10\u001b[0m\u001b[0;34m)\u001b[0m\u001b[0;34m,\u001b[0m \u001b[0mtype\u001b[0m\u001b[0;34m(\u001b[0m\u001b[0mv11\u001b[0m\u001b[0;34m)\u001b[0m\u001b[0;34m,\u001b[0m \u001b[0mtype\u001b[0m\u001b[0;34m(\u001b[0m\u001b[0mv12\u001b[0m\u001b[0;34m)\u001b[0m\u001b[0;34m)\u001b[0m\u001b[0;34m\u001b[0m\u001b[0;34m\u001b[0m\u001b[0m\n",
            "\u001b[0;31mNameError\u001b[0m: name 'v1' is not defined"
          ]
        }
      ],
      "source": [
        "# Lets print out the 'type' of every variable defined above\n",
        "print(type(v1), type(v2), type(v3), type(v4), type(v5), type(v6))\n",
        "print(type(v7), type(v8), type(v9), type(v10), type(v11), type(v12))"
      ]
    },
    {
      "cell_type": "markdown",
      "source": [
        "More about Variables names or identifiers:\n",
        "- they are case-sensitive\n",
        "- Following rules are followed:\n",
        "  - A variable name must start with a letter or the underscore character\n",
        "  - A variable name cannot start with a number\n",
        "  - A variable name can only contain alpha-numeric characters and underscores (A-z, 0-9, and _ )\n",
        "  - Variable names are case-sensitive (age, Age and AGE are three different variables)\n",
        "  - A variable name cannot be any of the Python keywords.\n",
        "\n",
        "Python is dynamically typed, so you don't need to specify the data type explicitly.\n",
        "- It is inferred from the specified value of the variable"
      ],
      "metadata": {
        "id": "HTlXOdG9MriS"
      }
    },
    {
      "cell_type": "code",
      "execution_count": null,
      "metadata": {
        "id": "IPfi_mvcMriS"
      },
      "outputs": [],
      "source": [
        "# Let's create some more variables of the simpler data types, with more meaningful identifiers\n",
        "\n",
        "age         = 25            # An integer variable\n",
        "height      = 5.11          # A float variable\n",
        "name        = \"Aditi\"       # A string variable\n",
        "is_student  = True          # A boolean variable\n",
        "complex_num = 3 + 4j        # A complex variable\n",
        "a_general_variable = \"Initialized to string\"   # We will change the type of this variable later, to illustrate dynamic typing"
      ]
    },
    {
      "cell_type": "code",
      "execution_count": null,
      "metadata": {
        "id": "17SK3VzpMriS",
        "colab": {
          "base_uri": "https://localhost:8080/"
        },
        "outputId": "96eb358a-511f-47f8-ecb4-458dfcbc844c"
      },
      "outputs": [
        {
          "output_type": "stream",
          "name": "stdout",
          "text": [
            "Name: Aditi\n",
            "Age: 25\n",
            "Height: 5.11\n",
            "Is Student: True\n",
            "Complex Number: (3+4j)\n",
            "A general variable: its value is Initialized to string and its type is: <class 'str'>\n"
          ]
        }
      ],
      "source": [
        "# Informative printing ...\n",
        "print(\"Name:\", name)\n",
        "print(\"Age:\", age)\n",
        "print(\"Height:\", height)\n",
        "print(\"Is Student:\", is_student)\n",
        "print(\"Complex Number:\", complex_num)\n",
        "print(\"A general variable: its value is\", a_general_variable, \"and its type is:\", type(a_general_variable))"
      ]
    },
    {
      "cell_type": "markdown",
      "source": [
        "### Formatted print"
      ],
      "metadata": {
        "id": "1rScQP5IeYMg"
      }
    },
    {
      "cell_type": "code",
      "execution_count": null,
      "metadata": {
        "id": "aQzDsCSrMriT",
        "outputId": "7a312025-65ae-4c79-eab8-654343aec914",
        "colab": {
          "base_uri": "https://localhost:8080/"
        }
      },
      "outputs": [
        {
          "output_type": "stream",
          "name": "stdout",
          "text": [
            "Name: Aditi, Age: 25, Height: 5.11, Is Student: True, Complex Number: (3+4j)\n"
          ]
        }
      ],
      "source": [
        "# A more convenient and concise way to print\n",
        "# Notice the use of 'f' before the string to be printed ...\n",
        "# also notice the variable names embedded in the string but enclosed in brace brackets,\n",
        "\n",
        "print(f\"Name: {name}, Age: {age}, Height: {height}, Is Student: {is_student}, Complex Number: {complex_num}\")"
      ]
    },
    {
      "cell_type": "code",
      "execution_count": null,
      "metadata": {
        "id": "kGgVKHhmMriT",
        "colab": {
          "base_uri": "https://localhost:8080/"
        },
        "outputId": "85d620d9-4ab1-466a-f59c-21ca6d71ebc9"
      },
      "outputs": [
        {
          "output_type": "stream",
          "name": "stdout",
          "text": [
            " Name: Aditi\n",
            " Age: 25\n",
            " Height: 5.11\n",
            " Is Student: True\n",
            " Complex Number: (3+4j)\n"
          ]
        }
      ],
      "source": [
        "# Still better?\n",
        "print(f\" Name: {name}\\n Age: {age}\\n Height: {height}\\n Is Student: {is_student}\\n Complex Number: {complex_num}\")"
      ]
    },
    {
      "cell_type": "markdown",
      "source": [
        "Some questions:\n",
        "\n",
        "Q: Using f-strings, is it possible to format the output in a more customized way?\n",
        "\n",
        "For example, specify the total width, justification, and number of significant digits of a 'float' number\n",
        "\n",
        "Q: Look up the old style output formatting methods also ... old code in Python would have them"
      ],
      "metadata": {
        "id": "ATGaSNnGMriT"
      }
    },
    {
      "cell_type": "markdown",
      "source": [
        "### Variable re-assignment. Such operations may result in changing the variable type\n"
      ],
      "metadata": {
        "id": "KY0TG_azMriT"
      }
    },
    {
      "cell_type": "code",
      "source": [
        "name = \"Ajay\"  # Changing the value of the 'name' variable\n",
        "print(\"Updated Name:\", name)\n",
        "\n",
        "a_general_variable = 10 # This also results in changing the variable type\n",
        "print(f\"New value of \\'General Variable\\': {a_general_variable}, and its new type is: {type(a_general_variable)}\")"
      ],
      "metadata": {
        "id": "l_L2HGo_e5ko",
        "colab": {
          "base_uri": "https://localhost:8080/"
        },
        "outputId": "70b8e46f-ac1e-40dc-94e2-d14365d03291"
      },
      "execution_count": null,
      "outputs": [
        {
          "output_type": "stream",
          "name": "stdout",
          "text": [
            "Updated Name: Ajay\n",
            "New value of 'General Variable': 10, and its new type is: <class 'int'>\n"
          ]
        }
      ]
    },
    {
      "cell_type": "code",
      "execution_count": null,
      "metadata": {
        "id": "U9ekyVQHMriT"
      },
      "outputs": [],
      "source": [
        "# Q: Is it possible to create variables without assigning any value to them? If so, how? maybe a []\n",
        "# Q: Is it possible to fix the type of a variable, ie. once defined the type cannot be changed?  by assigning a value to a variable and not re-assigning a different type later on\n",
        "# Q: Is it possible to define a 'constant'? No, python doesnt have a built-in mechanism to define a constant.\n",
        "# Q: Is it possible to prevent the value of variable from being changed? That is, make a variable immutable? by assigning it a data type that is inherently immutable, such as an integer, float, string, or tuple"
      ]
    },
    {
      "cell_type": "markdown",
      "source": [
        "### Type Conversion"
      ],
      "metadata": {
        "id": "a-UlL4UeftnC"
      }
    },
    {
      "cell_type": "code",
      "execution_count": null,
      "metadata": {
        "id": "E3LGGUEpMriT",
        "colab": {
          "base_uri": "https://localhost:8080/"
        },
        "outputId": "f5bfcbe0-4b83-4f56-9073-fd8dc3912efa"
      },
      "outputs": [
        {
          "output_type": "stream",
          "name": "stdout",
          "text": [
            "1 1.1 3 True\n"
          ]
        }
      ],
      "source": [
        "# Conversion functions are available to convert one data type to another.\n",
        "# Typically, from a string to int, float, etc\n",
        "# This is required usually while interactively inputting data ... coming up later\n",
        "\n",
        "a = int(\"1\")\n",
        "b = float(\"1.1\")\n",
        "c = str(3)\n",
        "d = bool(5)\n",
        "print(a,b,c,d)"
      ]
    },
    {
      "cell_type": "code",
      "execution_count": null,
      "metadata": {
        "id": "NVWes23ZMriT"
      },
      "outputs": [],
      "source": [
        "# In Python everything is an 'object', derived from a 'class'\n",
        "# We will right now just get used to these terms, and understand how to use objects\n",
        "\n",
        "# If you are using Jupyter Notebook, type 'a.' followed by TAB to get a list of functions available for 'a'\n",
        "# In VSC, type 'a.' to get all the operations available on 'a'"
      ]
    },
    {
      "cell_type": "markdown",
      "source": [
        "### Deleting Variables"
      ],
      "metadata": {
        "id": "LEQ4LtQDfpFt"
      }
    },
    {
      "cell_type": "code",
      "execution_count": null,
      "metadata": {
        "id": "NGa5btHfMriU",
        "colab": {
          "base_uri": "https://localhost:8080/"
        },
        "outputId": "5f9c19b5-33b5-44c0-c1cb-768d01b1d27b"
      },
      "outputs": [
        {
          "output_type": "stream",
          "name": "stdout",
          "text": [
            "True\n"
          ]
        }
      ],
      "source": [
        "# Python provides a function to 'delete' a variable from the current 'namespace' i.e. memory\n",
        "i_exist = True\n",
        "print(i_exist)"
      ]
    },
    {
      "cell_type": "code",
      "execution_count": null,
      "metadata": {
        "id": "No1YX6-HMriU"
      },
      "outputs": [],
      "source": [
        "del(i_exist)\n",
        "#print(i_exist)    # at this point the variable does not exist, hence executing this line raises an error"
      ]
    },
    {
      "cell_type": "markdown",
      "source": [
        "### Multiple assignment"
      ],
      "metadata": {
        "id": "CsXAdjNgf3pQ"
      }
    },
    {
      "cell_type": "code",
      "execution_count": null,
      "metadata": {
        "id": "eXdhEWGRMriU"
      },
      "outputs": [],
      "source": [
        "# Python allows multiple variables to be created /assigned at once\n",
        "v1, v2, v3 = 1, \"two\", 3.3\n",
        "print(v1, v2, v3)\n",
        "\n",
        "# This method is usually used to return multiple outputs from a 'function'. More on that later ..."
      ]
    },
    {
      "cell_type": "code",
      "execution_count": null,
      "metadata": {
        "id": "KkTnGWY1MriU"
      },
      "outputs": [],
      "source": [
        "# Operating with variables in Python\n",
        "# Python allows you to operate with / on variables using various 'operations'\n",
        "# Expressions can be built using variables and operations\n",
        "# Let's look at some examples of operations and their types\n",
        "\n",
        "# In the blocks that follow, print out the value of the variable after each operation to check the result\n",
        "# If you are clueless about what something like '+=' means, refer the following link\n",
        "# https://docs.python.org/3/reference/simple_stmts.html#augmented-assignment-statements"
      ]
    },
    {
      "cell_type": "markdown",
      "source": [
        "# Operations\n",
        "\n",
        "\n"
      ],
      "metadata": {
        "id": "HkKdjgr5f84I"
      }
    },
    {
      "cell_type": "markdown",
      "source": [
        "### Assignment operations\n"
      ],
      "metadata": {
        "id": "CDM5Ida3MriU"
      }
    },
    {
      "cell_type": "code",
      "source": [
        "a = 10  # Assignment\n",
        "a += 5  # Addition assignment\n",
        "print(a)\n",
        "a -= 5  # Subtraction assignment\n",
        "print(a)\n",
        "a *= 5  # Multiplication assignment\n",
        "print(a)\n",
        "a /= 5  # Division assignment\n",
        "print(a)\n",
        "a %= 5  # Modulo assignment\n",
        "print(a)\n",
        "a //= 5  # Floor division assignment\n",
        "print(a)\n",
        "a **= 5  # Exponentiation assignment\n",
        "print(a)"
      ],
      "metadata": {
        "id": "YIFRzIKggLqB",
        "colab": {
          "base_uri": "https://localhost:8080/"
        },
        "outputId": "4fc2bffb-e5d9-4602-cd63-1d8e93431815"
      },
      "execution_count": null,
      "outputs": [
        {
          "output_type": "stream",
          "name": "stdout",
          "text": [
            "15\n",
            "10\n",
            "50\n",
            "10.0\n",
            "0.0\n",
            "0.0\n",
            "0.0\n"
          ]
        }
      ]
    },
    {
      "cell_type": "markdown",
      "source": [
        "### Arithmetic operations\n"
      ],
      "metadata": {
        "id": "8kpQpqBxMriU"
      }
    },
    {
      "cell_type": "code",
      "source": [
        "a = 10 + 5  # Addition\n",
        "b = 10 - 5  # Subtraction\n",
        "c = 10 * 5  # Multiplication\n",
        "d = 10 / 5  # Division\n",
        "e = 10 // 5  # Floor Division\n",
        "f = 10 % 5  # Modulo/Remainder\n",
        "g = 10 ** 5  # Exponentiation 10^5"
      ],
      "metadata": {
        "id": "KP9DAbw2gRFO"
      },
      "execution_count": null,
      "outputs": []
    },
    {
      "cell_type": "markdown",
      "source": [
        "### Boolean, or comparison operations"
      ],
      "metadata": {
        "id": "Kb4tDmfhMriU"
      }
    },
    {
      "cell_type": "code",
      "source": [
        "a = 10 == 5  # Equal to\n",
        "b = 10 != 5  # Not equal to\n",
        "c = 10 > 5  # Greater than\n",
        "d = 10 < 5  # Less than\n",
        "e = 10 >= 5  # Greater than or equal to\n",
        "f = 10 <= 5  # Less than or equal to"
      ],
      "metadata": {
        "id": "udBNEk1sgTdK"
      },
      "execution_count": null,
      "outputs": []
    },
    {
      "cell_type": "markdown",
      "source": [
        "### Logical operations\n"
      ],
      "metadata": {
        "id": "clB0AJU1MriU"
      }
    },
    {
      "cell_type": "code",
      "source": [
        "a = True and False  # Logical AND\n",
        "b = True or False  # Logical OR\n",
        "c = not True  # Logical NOT\n",
        "\n",
        "a = 5\n",
        "b = 6\n",
        "\n",
        "x = 7\n",
        "y = 8\n",
        "\n",
        "# print(a==b)\n",
        "c =  not (a==b)\n",
        "d =  (x == y)\n",
        "print(c or d)"
      ],
      "metadata": {
        "id": "oMJ0snlbgXSm",
        "colab": {
          "base_uri": "https://localhost:8080/"
        },
        "outputId": "54d48287-4fe0-4dd3-d0eb-cd7b07cdb419"
      },
      "execution_count": null,
      "outputs": [
        {
          "output_type": "stream",
          "name": "stdout",
          "text": [
            "True\n"
          ]
        }
      ]
    },
    {
      "cell_type": "markdown",
      "source": [
        "### Bitwise operations\n"
      ],
      "metadata": {
        "id": "5InWLJjqMriU"
      }
    },
    {
      "cell_type": "code",
      "source": [
        "a = 10 & 5  # Bitwise AND\n",
        "b = 10 | 5  # Bitwise OR\n",
        "c = 10 ^ 5  # Bitwise XOR\n",
        "d = ~10  # Bitwise NOT\n",
        "e = 10 << 2  # Left shift\n",
        "f = 10 >> 2  # Right shift\n"
      ],
      "metadata": {
        "id": "vUFnmbhZimeZ"
      },
      "execution_count": null,
      "outputs": []
    },
    {
      "cell_type": "code",
      "execution_count": null,
      "metadata": {
        "id": "AYqPDCjUMriU"
      },
      "outputs": [],
      "source": [
        "# Q: What is the difference between the x = x + 1 and x += 1 ?"
      ]
    },
    {
      "cell_type": "markdown",
      "source": [
        "# Basic Input/Output"
      ],
      "metadata": {
        "id": "bdtfAyo4iqyb"
      }
    },
    {
      "cell_type": "code",
      "execution_count": null,
      "metadata": {
        "id": "q98pL4LnMriV"
      },
      "outputs": [],
      "source": [
        "# We will now look at the basic methods to handle input / output\n",
        "# That is, assign values to variables from an external source (e.g. the user using a keyboards)\n",
        "# and store the value of a variable in an external sink (e.g. a file)"
      ]
    },
    {
      "cell_type": "markdown",
      "source": [
        "### Read from the terminal"
      ],
      "metadata": {
        "id": "D-taog1biw0m"
      }
    },
    {
      "cell_type": "code",
      "execution_count": null,
      "metadata": {
        "id": "2POlnBM4MriV",
        "colab": {
          "base_uri": "https://localhost:8080/"
        },
        "outputId": "0a48b776-4436-4e3e-f479-ab8e0a26ded1"
      },
      "outputs": [
        {
          "output_type": "stream",
          "name": "stdout",
          "text": [
            "Enter the value of the new variable: 34\n",
            "The value of the new variable is: 34 and its type is: <class 'str'>\n",
            "Enter a whole number: 67\n",
            "The value of the whole number is: 67, and its type is: <class 'int'>\n"
          ]
        }
      ],
      "source": [
        "# Basic input / output in Python\n",
        "\n",
        "# Values can be interactively assigned using the keyboard while initializing variables\n",
        "# using the input() function ... Python display the supplied prompt, and waits for a value to be specified\n",
        "\n",
        "# After you type the following statement, you will find a prompt on the screen, somewhere. Don't get lost!\n",
        "\n",
        "a_new_variable = input(\"Enter the value of the new variable: \")\n",
        "print(\"The value of the new variable is:\", a_new_variable, \"and its type is:\", type(a_new_variable))\n",
        "\n",
        "a_new_int = int(input(\"Enter a whole number: \"))\n",
        "print(f\"The value of the whole number is: {a_new_int}, and its type is: {type(a_new_int)}\")"
      ]
    },
    {
      "cell_type": "code",
      "source": [
        "a_new_variable = input(\"Enter the value of the new variable: \")\n",
        "print(\"The value of the new variable is:\", a_new_variable, \"and its type is:\", type(a_new_variable))\n"
      ],
      "metadata": {
        "colab": {
          "base_uri": "https://localhost:8080/"
        },
        "id": "DVoSsLug2DvB",
        "outputId": "c7fce8da-2a23-4d74-dcaf-2b21bc828106"
      },
      "execution_count": null,
      "outputs": [
        {
          "output_type": "stream",
          "name": "stdout",
          "text": [
            "Enter the value of the new variable: sdf\n",
            "The value of the new variable is: sdf and its type is: <class 'str'>\n"
          ]
        }
      ]
    },
    {
      "cell_type": "code",
      "source": [],
      "metadata": {
        "id": "Ogc6XY252F83"
      },
      "execution_count": null,
      "outputs": []
    },
    {
      "cell_type": "code",
      "source": [],
      "metadata": {
        "id": "cYb86f-22Fwe"
      },
      "execution_count": null,
      "outputs": []
    },
    {
      "cell_type": "markdown",
      "source": [
        "### Write to a file"
      ],
      "metadata": {
        "id": "xjZQCgTliz3s"
      }
    },
    {
      "cell_type": "code",
      "execution_count": null,
      "metadata": {
        "id": "_G1yYj6UMriV",
        "colab": {
          "base_uri": "https://localhost:8080/",
          "height": 216
        },
        "outputId": "ef5199ed-c9db-4078-91ad-852b7647e439"
      },
      "outputs": [
        {
          "output_type": "error",
          "ename": "NameError",
          "evalue": "name 'age' is not defined",
          "traceback": [
            "\u001b[0;31m---------------------------------------------------------------------------\u001b[0m",
            "\u001b[0;31mNameError\u001b[0m                                 Traceback (most recent call last)",
            "\u001b[0;32m<ipython-input-28-ce1af5ee4c31>\u001b[0m in \u001b[0;36m<cell line: 0>\u001b[0;34m()\u001b[0m\n\u001b[1;32m      3\u001b[0m \u001b[0;34m\u001b[0m\u001b[0m\n\u001b[1;32m      4\u001b[0m \u001b[0;32mwith\u001b[0m \u001b[0mopen\u001b[0m\u001b[0;34m(\u001b[0m\u001b[0;34m\"variables.txt\"\u001b[0m\u001b[0;34m,\u001b[0m \u001b[0;34m\"w\"\u001b[0m\u001b[0;34m)\u001b[0m \u001b[0;32mas\u001b[0m \u001b[0mfile\u001b[0m\u001b[0;34m:\u001b[0m\u001b[0;34m\u001b[0m\u001b[0;34m\u001b[0m\u001b[0m\n\u001b[0;32m----> 5\u001b[0;31m   \u001b[0mfile\u001b[0m\u001b[0;34m.\u001b[0m\u001b[0mwrite\u001b[0m\u001b[0;34m(\u001b[0m\u001b[0mstr\u001b[0m\u001b[0;34m(\u001b[0m\u001b[0mage\u001b[0m\u001b[0;34m)\u001b[0m \u001b[0;34m+\u001b[0m \u001b[0;34m\"\\n\"\u001b[0m\u001b[0;34m)\u001b[0m\u001b[0;34m\u001b[0m\u001b[0;34m\u001b[0m\u001b[0m\n\u001b[0m\u001b[1;32m      6\u001b[0m   \u001b[0mfile\u001b[0m\u001b[0;34m.\u001b[0m\u001b[0mwrite\u001b[0m\u001b[0;34m(\u001b[0m\u001b[0mstr\u001b[0m\u001b[0;34m(\u001b[0m\u001b[0mheight\u001b[0m\u001b[0;34m)\u001b[0m \u001b[0;34m+\u001b[0m \u001b[0;34m\"\\n\"\u001b[0m\u001b[0;34m)\u001b[0m\u001b[0;34m\u001b[0m\u001b[0;34m\u001b[0m\u001b[0m\n\u001b[1;32m      7\u001b[0m   \u001b[0mfile\u001b[0m\u001b[0;34m.\u001b[0m\u001b[0mwrite\u001b[0m\u001b[0;34m(\u001b[0m\u001b[0mname\u001b[0m \u001b[0;34m+\u001b[0m \u001b[0;34m\"\\n\"\u001b[0m\u001b[0;34m)\u001b[0m\u001b[0;34m\u001b[0m\u001b[0;34m\u001b[0m\u001b[0m\n",
            "\u001b[0;31mNameError\u001b[0m: name 'age' is not defined"
          ]
        }
      ],
      "source": [
        "# Variable values can be written out into a file using the following code\n",
        "# Write the variables to a text file\n",
        "\n",
        "with open(\"variables.txt\", \"w\") as file:\n",
        "  file.write(str(age) + \"\\n\")\n",
        "  file.write(str(height) + \"\\n\")\n",
        "  file.write(name + \"\\n\")\n",
        "  file.write(str(is_student) + \"\\n\")"
      ]
    },
    {
      "cell_type": "code",
      "source": [
        "instructorsOfProgramming={\"instructors\": [{\"name\":\"Abir\", \"age\": 100, \"profession\": \"teaching\"},\n",
        "                                          {\"name\":\"Vinay\", \"age\": 100, \"profession\": \"teaching\"}],\n",
        "                           \"TAs\": [{\"name\":\"Ninad\", \"age\": 20, \"profession\": \"student\"},\n",
        "                                   {\"name\":\"Harsha\", \"age\": 20, \"profession\": \"research\", \"hobby\": \"reading\"}] }\n",
        "\n",
        "with open(\"instructors.txt\", \"w\") as file:\n",
        "    file.write(\"Professors are \" + instructorsOfProgramming[\"instructors\"][\"name\"][0] + \"and \" + instructorsOfProgramming[\"instructors\"][\"name\"][1] + \"\\n\")\n",
        "\n"
      ],
      "metadata": {
        "id": "hG8f05xf3WVn",
        "colab": {
          "base_uri": "https://localhost:8080/",
          "height": 216
        },
        "outputId": "f718d57d-aa74-4b76-9859-1bba350e6fa9"
      },
      "execution_count": null,
      "outputs": [
        {
          "output_type": "error",
          "ename": "TypeError",
          "evalue": "list indices must be integers or slices, not str",
          "traceback": [
            "\u001b[0;31m---------------------------------------------------------------------------\u001b[0m",
            "\u001b[0;31mTypeError\u001b[0m                                 Traceback (most recent call last)",
            "\u001b[0;32m<ipython-input-29-952fd902fdfb>\u001b[0m in \u001b[0;36m<cell line: 0>\u001b[0;34m()\u001b[0m\n\u001b[1;32m      5\u001b[0m \u001b[0;34m\u001b[0m\u001b[0m\n\u001b[1;32m      6\u001b[0m \u001b[0;32mwith\u001b[0m \u001b[0mopen\u001b[0m\u001b[0;34m(\u001b[0m\u001b[0;34m\"instructors.txt\"\u001b[0m\u001b[0;34m,\u001b[0m \u001b[0;34m\"w\"\u001b[0m\u001b[0;34m)\u001b[0m \u001b[0;32mas\u001b[0m \u001b[0mfile\u001b[0m\u001b[0;34m:\u001b[0m\u001b[0;34m\u001b[0m\u001b[0;34m\u001b[0m\u001b[0m\n\u001b[0;32m----> 7\u001b[0;31m     \u001b[0mfile\u001b[0m\u001b[0;34m.\u001b[0m\u001b[0mwrite\u001b[0m\u001b[0;34m(\u001b[0m\u001b[0;34m\"Professors are \"\u001b[0m \u001b[0;34m+\u001b[0m \u001b[0minstructorsOfProgramming\u001b[0m\u001b[0;34m[\u001b[0m\u001b[0;34m\"instructors\"\u001b[0m\u001b[0;34m]\u001b[0m\u001b[0;34m[\u001b[0m\u001b[0;34m\"name\"\u001b[0m\u001b[0;34m]\u001b[0m\u001b[0;34m[\u001b[0m\u001b[0;36m0\u001b[0m\u001b[0;34m]\u001b[0m \u001b[0;34m+\u001b[0m \u001b[0;34m\"and \"\u001b[0m \u001b[0;34m+\u001b[0m \u001b[0minstructorsOfProgramming\u001b[0m\u001b[0;34m[\u001b[0m\u001b[0;34m\"instructors\"\u001b[0m\u001b[0;34m]\u001b[0m\u001b[0;34m[\u001b[0m\u001b[0;34m\"name\"\u001b[0m\u001b[0;34m]\u001b[0m\u001b[0;34m[\u001b[0m\u001b[0;36m1\u001b[0m\u001b[0;34m]\u001b[0m \u001b[0;34m+\u001b[0m \u001b[0;34m\"\\n\"\u001b[0m\u001b[0;34m)\u001b[0m\u001b[0;34m\u001b[0m\u001b[0;34m\u001b[0m\u001b[0m\n\u001b[0m\u001b[1;32m      8\u001b[0m \u001b[0;34m\u001b[0m\u001b[0m\n",
            "\u001b[0;31mTypeError\u001b[0m: list indices must be integers or slices, not str"
          ]
        }
      ]
    },
    {
      "cell_type": "code",
      "source": [
        "age = 10\n",
        "height = 5.5\n",
        "name =  \"AD\"\n",
        "is_student = False\n",
        "\n",
        "with open(\"variables.txt\", \"w\") as file:\n",
        "    file.write(str(age) + \"\\n\")\n",
        "    file.write(str(height) + \"\\n\")\n",
        "    file.write(name + \"\\n\")\n",
        "    file.write(str(is_student) + \"\\n\")"
      ],
      "metadata": {
        "id": "rFfwtGoB3ARi"
      },
      "execution_count": null,
      "outputs": []
    },
    {
      "cell_type": "code",
      "execution_count": null,
      "metadata": {
        "id": "u_fkE9L0MriV",
        "colab": {
          "base_uri": "https://localhost:8080/"
        },
        "outputId": "dee6662d-8eee-4265-c9da-5819165a7614"
      },
      "outputs": [
        {
          "output_type": "stream",
          "name": "stdout",
          "text": [
            "age = 10\n",
            "height = 5.5\n",
            "name = AD\n",
            "is_student=  True\n"
          ]
        }
      ],
      "source": [
        "# Define new variable to read their values from the file\n",
        "#rd_age, rd_height, rd_name, rd_is_student = None, None, None, None\n",
        "\n",
        "# Read the variables back from the text file\n",
        "with open(\"variables.txt\", \"r\") as file:\n",
        "    rd_age = int(file.readline().strip())\n",
        "    rd_height = float(file.readline().strip())\n",
        "    rd_name = file.readline().strip()\n",
        "    rd_is_student = bool(file.readline().strip())\n",
        "\n",
        "# Print the variables\n",
        "print(\"age =\", rd_age)\n",
        "print(\"height =\", rd_height)\n",
        "print(\"name =\", rd_name)\n",
        "print(\"is_student= \", rd_is_student)"
      ]
    },
    {
      "cell_type": "markdown",
      "source": [
        "# More on data types"
      ],
      "metadata": {
        "id": "jRAuNO00MriV"
      }
    },
    {
      "cell_type": "code",
      "execution_count": null,
      "metadata": {
        "id": "6wgH-iNFNVTh"
      },
      "outputs": [],
      "source": [
        "# we will focus on additional, slightly more complex data types\n",
        "# We will learn about the following data types: string, list, tuple, set, and dict (dictionary)\n",
        "# These data types are known as Sequence Types"
      ]
    },
    {
      "cell_type": "markdown",
      "source": [
        "## str ... strings"
      ],
      "metadata": {
        "id": "mPv7c4hDNVTl"
      }
    },
    {
      "cell_type": "code",
      "source": [
        "# This is a data type, and it is used to store text. In Python,\n",
        "#   Strings are enclosed in single or double quotes\n",
        "#   Strings are immutable, which means that they cannot be changed after they are created\n",
        "#   Strings are iterable, which means that you can loop over them\n",
        "#   Strings are indexed, which means that you can access individual characters\n",
        "\n",
        "# They can be manipulated, concatenated, split, compared, etc. using various operators and functions\n",
        "\n",
        "# Python documentation on strings is available at: https://docs.python.org/3/library/stdtypes.html#text-sequence-type-str"
      ],
      "metadata": {
        "id": "pJCHhPTmjjbw"
      },
      "execution_count": null,
      "outputs": []
    },
    {
      "cell_type": "code",
      "execution_count": null,
      "metadata": {
        "id": "XT85yauPNVTl",
        "colab": {
          "base_uri": "https://localhost:8080/"
        },
        "outputId": "f0a62d81-b35b-4f35-9fba-c09dcef1b76f"
      },
      "outputs": [
        {
          "output_type": "stream",
          "name": "stdout",
          "text": [
            "The following are citizens: Nagrik Gaowala and Nagrik Shaharwala\n",
            "The length of the string is: 36\n",
            "The first character of the string is: N\n",
            "The first three characters of the string are: Nag\n",
            "The last three characters of the string are: ala\n"
          ]
        }
      ],
      "source": [
        "# Examples ...\n",
        "\n",
        "name_1 = \"Nagrik Gaowala\"\n",
        "name_2 = 'Nagrik Shaharwala'\n",
        "\n",
        "citizens = name_1 + \" and \" + name_2                # Concatenation\n",
        "print(f\"The following are citizens: {citizens}\")\n",
        "\n",
        "str_len = len(citizens)                                 # Length of the string\n",
        "print(f\"The length of the string is: {str_len}\")\n",
        "\n",
        "# Example of string indexing ... Note: Indexing starts at 0\n",
        "print(f\"The first character of the string is: {citizens[0]}\")\n",
        "\n",
        "# Example of string slicing\n",
        "print(f\"The first three characters of the string are: {citizens[0:3]}\")\n",
        "\n",
        "# Example of string slicing from the end\n",
        "print(f\"The last three characters of the string are: {citizens[-3:]}\")"
      ]
    },
    {
      "cell_type": "code",
      "source": [
        "a = [1, 1.1, \"Abir\", \"Ninad\", \"Dipen\"]\n",
        "a[0:3] #[1, 1.1, 'Abir']\n",
        "a[-1]  # 'Dipen'\n",
        "a[-3] # 'Abir'\n",
        "a[-3:-1] # ['Abir', 'Ninad']\n",
        "a[-3:] # ['Abir', 'Ninad', , 'Dipen']"
      ],
      "metadata": {
        "colab": {
          "base_uri": "https://localhost:8080/"
        },
        "id": "fLUXhYZO46d9",
        "outputId": "c68d5a5e-b4dc-43ea-c7f6-df9540c09a32"
      },
      "execution_count": null,
      "outputs": [
        {
          "output_type": "execute_result",
          "data": {
            "text/plain": [
              "['Abir', 'Ninad', 'Dipen']"
            ]
          },
          "metadata": {},
          "execution_count": 32
        }
      ]
    },
    {
      "cell_type": "markdown",
      "source": [
        "### Built-in functions for strings"
      ],
      "metadata": {
        "id": "UjZ3AViyju-V"
      }
    },
    {
      "cell_type": "code",
      "execution_count": null,
      "metadata": {
        "id": "I1TUKLbdNVTm",
        "colab": {
          "base_uri": "https://localhost:8080/"
        },
        "outputId": "2fc62c50-6c7b-466a-c998-b484b528d5d3"
      },
      "outputs": [
        {
          "output_type": "stream",
          "name": "stdout",
          "text": [
            "13\n",
            "42\n",
            "My name is Alia and I am 25 years old.\n",
            "hello, world!\n",
            "HELLO, WORLD!\n",
            "Some text\n",
            "['Hello', 'World!']\n",
            "Hello, World!\n",
            "Hi, World!\n",
            "7\n"
          ]
        }
      ],
      "source": [
        "# The following built-in functions of Python can be used on strings\n",
        "#   len(), str(), format(), strip(), split(), join(), upper(), lower(), replace(), find()\n",
        "# A list of these built-in functions is available at https://docs.python.org/3/library/functions.html\n",
        "\n",
        "text = \"Hello, World!\"\n",
        "length = len(text)\n",
        "print(length)  # Output: 13\n",
        "\n",
        "number = 42\n",
        "number_str = str(number)\n",
        "print(number_str)  # Output: \"42\"\n",
        "\n",
        "name = \"Alia\"\n",
        "age = 25\n",
        "message = \"My name is {} and I am {} years old.\".format(name, age)\n",
        "print(message)  # Output: \"My name is Alia and I am 25 years old.\"\n",
        "\n",
        "text = \"Hello, World!\"\n",
        "lowercase_text = text.lower()\n",
        "print(lowercase_text)  # Output: \"hello, world!\"\n",
        "\n",
        "text = \"Hello, World!\"\n",
        "uppercase_text = text.upper()\n",
        "print(uppercase_text)  # Output: \"HELLO, WORLD!\"\n",
        "\n",
        "text = \"   Some text   \"\n",
        "stripped_text = text.strip()\n",
        "print(stripped_text)  # Output: \"Some text\"\n",
        "\n",
        "text = \"Hello, World!\"\n",
        "words = text.split(\", \") # split the string into a list using the delimiters ',' and '<space>\n",
        "print(words)  # Output: [\"Hello\", \"World!\"]\n",
        "\n",
        "words = [\"Hello\", \"World!\"]     # [\"Hello\", \"World!\"] is a list, more about lists soon\n",
        "text = \", \".join(words)\n",
        "print(text)  # Output: \"Hello, World!\"\n",
        "\n",
        "text = \"Hello, World!\"\n",
        "new_text = text.replace(\"Hello\", \"Hi\")\n",
        "print(new_text)  # Output: \"Hi, World!\"\n",
        "\n",
        "text = \"Hello, World!\"\n",
        "index = text.find(\"W\") # find the index of the first occurrence\n",
        "print(index)  # Output: 7"
      ]
    },
    {
      "cell_type": "code",
      "execution_count": null,
      "metadata": {
        "id": "gy-azPFxNVTm",
        "colab": {
          "base_uri": "https://localhost:8080/"
        },
        "outputId": "f1541cca-729e-4759-e58d-afa7a3832801"
      },
      "outputs": [
        {
          "output_type": "stream",
          "name": "stdout",
          "text": [
            "HELLO, WORLD!\n"
          ]
        }
      ],
      "source": [
        "# In addition to the above built-in functions, there are many more functions that can be used on strings\n",
        "# These functions are defined as member functions of the Class 'str' (We will learn more about 'class' in a later unit)\n",
        "# and they can be accessed using a dot operator '.' as shown below\n",
        "\n",
        "text = \"Hello, World!\"\n",
        "print(text.upper())  # Output: \"HELLO, WORLD!\"\n",
        "\n",
        "# The member functions are too numerous to be enumerated here!\n",
        "# They are documented at https://docs.python.org/3/library/stdtypes.html#text-sequence-type-str\n",
        "# Visit this link to review these member functions and try them out here ..."
      ]
    },
    {
      "cell_type": "code",
      "execution_count": null,
      "metadata": {
        "id": "bNTuYQsdNVTn"
      },
      "outputs": [],
      "source": [
        "# Q: What is the meaning of the word 'immutable'?\n",
        "# Q: How will you prove that a Python string, once defined, is immutable?\n",
        "# Q: If strings are immutable, what will you do if you have to modify a string?\n",
        "# Q: Is it possible to convert 123 to its English text 'one hundred and twenty three'? And vice-versa?"
      ]
    },
    {
      "cell_type": "markdown",
      "source": [
        "## Lists\n"
      ],
      "metadata": {
        "id": "VW12NYdXNVTn"
      }
    },
    {
      "cell_type": "code",
      "source": [
        "\n",
        "# Lists are used to store multiple items in a single variable.\n",
        "# In Python a list is enclosed within square brackets ... [a,b,c,d]\n",
        "# A list can be mixed.\n",
        "#   It can contain variables of different data types ... [1, 'hello', True, 3.14, [1,2,3]]\n",
        "\n",
        "# Python lists are mutable, which means that you can change the elements of the list after it is created\n",
        "# Lists are iterable, which means that you can loop over them ... as explained later\n",
        "\n",
        "# Python documentation on lists is available at:\n",
        "#   https://docs.python.org/3/tutorial/introduction.html#lists\n",
        "#   https://docs.python.org/3/tutorial/datastructures.html"
      ],
      "metadata": {
        "id": "A6dyHY0sj6A1"
      },
      "execution_count": null,
      "outputs": []
    },
    {
      "cell_type": "code",
      "execution_count": null,
      "metadata": {
        "id": "XASSGJBvNVTn"
      },
      "outputs": [],
      "source": [
        "# The following built-in functions of Python can be used on lists\n",
        "#   len(), append(), insert(), remove(), reverse(), sort()\n",
        "# A list of these built-in functions is available at https://docs.python.org/3/library/functions.html\n",
        "\n",
        "# Visit the documentation and try the functions by coding examples here ..."
      ]
    },
    {
      "cell_type": "code",
      "execution_count": null,
      "metadata": {
        "id": "mqST7LTXNVTo",
        "colab": {
          "base_uri": "https://localhost:8080/"
        },
        "outputId": "fba1e55a-d5b2-4d8c-eaea-881ef2757e5e"
      },
      "outputs": [
        {
          "output_type": "stream",
          "name": "stdout",
          "text": [
            "Printing the entire list: ['apple', 'banana', 'mango']\n",
            "Printing only the first element: apple\n",
            "Printing only the last element: mango\n",
            "Printing the last element using negative indexing: mango\n",
            "The length of the list is: 3\n"
          ]
        }
      ],
      "source": [
        "# List ... examples\n",
        "\n",
        "fruits = [\"apple\", \"banana\", \"mango\"]\n",
        "print(\"Printing the entire list:\",fruits)\n",
        "\n",
        "# Individual elements in a list can be accessed using square brackets\n",
        "# Note: The index starts at 0, and goes up to \"the length of the list minus 1\"\n",
        "print(\"Printing only the first element:\",fruits[0])\n",
        "print(\"Printing only the last element:\", fruits[len(fruits)-1])\n",
        "\n",
        "# You can also use negative indexes to access elements from the end of the list.\n",
        "# For example, fruits[-1] will access the last element in the list.\n",
        "print(\"Printing the last element using negative indexing:\", fruits[-1])\n",
        "\n",
        "# You can use the `len()` function to get the length of a list.\n",
        "print(\"The length of the list is:\", len(fruits))"
      ]
    },
    {
      "cell_type": "code",
      "execution_count": null,
      "metadata": {
        "id": "RTpBblgTNVTo"
      },
      "outputs": [],
      "source": [
        "# As in the case of strings, a number of list member functions (also known as methods) can be used\n",
        "\n",
        "# list methods are documented at : https://docs.python.org/3/tutorial/datastructures.html#more-on-lists\n",
        "# This documentation also outlines various uses of the list data type"
      ]
    },
    {
      "cell_type": "markdown",
      "source": [
        "### Built-in functions for lists"
      ],
      "metadata": {
        "id": "xyoGyoYgkDsH"
      }
    },
    {
      "cell_type": "code",
      "execution_count": null,
      "metadata": {
        "id": "55jvJTkPNVTp",
        "outputId": "20f91398-9516-45aa-b6bd-7750736a635c",
        "colab": {
          "base_uri": "https://localhost:8080/"
        }
      },
      "outputs": [
        {
          "output_type": "stream",
          "name": "stdout",
          "text": [
            "The list after appending 'orange': ['apple', 'banana', 'mango', 'orange']\n",
            "The list after inserting 'grapes' at index 1: ['apple', 'grapes', 'banana', 'mango', 'orange']\n",
            "The list after removing 'banana': ['apple', 'grapes', 'mango', 'orange']\n",
            "The sorted list: ['apple', 'grapes', 'mango', 'orange']\n",
            "The reversed list: ['orange', 'mango', 'grapes', 'apple']\n"
          ]
        }
      ],
      "source": [
        "# Some of the member functions in action ...\n",
        "\n",
        "# You can use the `append()` method to add elements to the end of a list.\n",
        "fruits.append(\"orange\")\n",
        "print(\"The list after appending 'orange':\", fruits)\n",
        "\n",
        "# You can use the `insert()` method to insert elements into a list at a specific index.\n",
        "fruits.insert(1, \"grapes\")\n",
        "print(\"The list after inserting 'grapes' at index 1:\", fruits)\n",
        "\n",
        "# You can use the `remove()` method to remove elements from a list.\n",
        "fruits.remove(\"banana\")\n",
        "print(\"The list after removing 'banana':\", fruits)\n",
        "\n",
        "# You can use the `sort()` method to sort the elements in a list.\n",
        "fruits.sort()\n",
        "print(\"The sorted list:\", fruits)\n",
        "\n",
        "# You can use the `reverse()` method to reverse the order of the elements in a list.\n",
        "fruits.reverse()\n",
        "print(\"The reversed list:\", fruits)"
      ]
    },
    {
      "cell_type": "markdown",
      "source": [
        "# New Section"
      ],
      "metadata": {
        "id": "swJ65JbAniQ5"
      }
    },
    {
      "cell_type": "markdown",
      "source": [
        "### List I/O\n"
      ],
      "metadata": {
        "id": "l6SXD4ADNVTp"
      }
    },
    {
      "cell_type": "code",
      "source": [
        "\n",
        "# Initialize a list\n",
        "list_of_numbers = [1, 2, 3, 4, 5]\n",
        "\n",
        "# Write the list to a file ... note that the file will store the list as binary data\n",
        "with open(\"list_of_numbers.txt\", \"wb\") as file:\n",
        "    file.write(bytes(list_of_numbers))\n",
        "\n",
        "# Read the list back from the file\n",
        "with open(\"list_of_numbers.txt\", \"rb\") as file:\n",
        "    new_list_of_numbers = file.read()\n",
        "    new_list_of_numbers = list(new_list_of_numbers)\n",
        "\n",
        "# Print the list\n",
        "print(\"The list of numbers is:\", new_list_of_numbers)"
      ],
      "metadata": {
        "id": "iu04YC0TlbmP",
        "colab": {
          "base_uri": "https://localhost:8080/"
        },
        "outputId": "28587f85-9001-4ff2-b338-9ecc2bf22e0c"
      },
      "execution_count": null,
      "outputs": [
        {
          "output_type": "stream",
          "name": "stdout",
          "text": [
            "The list of numbers is: [1, 2, 3, 4, 5]\n"
          ]
        }
      ]
    },
    {
      "cell_type": "code",
      "execution_count": null,
      "metadata": {
        "id": "iECCTRhgNVTp"
      },
      "outputs": [],
      "source": [
        "# A list is useful in many ways, starting with its ability to store multiple items in a single variable\n",
        "# Once a list is created it can be iterated over ... a definite improvement over more traditional for loops\n",
        "# It can be used to initiaize more complex structures like matrices ... we will do all this soon ..."
      ]
    },
    {
      "cell_type": "markdown",
      "source": [
        "## tuples\n"
      ],
      "metadata": {
        "id": "ZoqNRW9FNVTp"
      }
    },
    {
      "cell_type": "code",
      "source": [
        "\n",
        "# In programming, a tuple is used to group related data together\n",
        "# It is a special kind of list, where the collection has a definite meaning\n",
        "# For example, a row of an Excel spreadsheet is a tuple\n",
        "# Example: (name,age,height,weight,gender,city) is a tuple, a 'record', a special list\n",
        "# Therefore, once a tuple is defined, it cannot be changed\n",
        "\n",
        "a_tuple = (\"Anita\", 25, 155, \"F\", \"Mumbai\") # This is how a tuple is defined\n",
        "a_new_tuple = tuple([\"Anita\", 25, 155, \"F\", \"Mumbai\"]) # It can also be created from a list\n",
        "\n",
        "# Properties of tuples:\n",
        "#   immutable, which means that they cannot be changed after they are created\n",
        "#   iterable, which means that you can loop over them, operating on each element\n",
        "#   indexed, which means that you can access individual elements using square brackets"
      ],
      "metadata": {
        "id": "MYCsUjFDlmW0"
      },
      "execution_count": null,
      "outputs": []
    },
    {
      "cell_type": "code",
      "execution_count": null,
      "metadata": {
        "id": "sp9uprvONVTp"
      },
      "outputs": [],
      "source": [
        "# The tuple class is documented at https://docs.python.org/3/library/stdtypes.html#tuples\n",
        "# A number of sequence operators operate on tuples\n",
        "# They are documented at: https://docs.python.org/3/library/stdtypes.html#common-sequence-operations\n",
        "#   these operators are also applicable to lists"
      ]
    },
    {
      "cell_type": "markdown",
      "source": [
        "## dict\n"
      ],
      "metadata": {
        "id": "DGGxt5t5NVTq"
      }
    },
    {
      "cell_type": "code",
      "source": [
        "\n",
        "# A dictionary is a collection of 'key-value' pairs.\n",
        "# Again, it is a special kind of list, where items are accessible using keys instead of an index\n",
        "# A dictionary is 'mutable', which means that items in it can be changed\n",
        "# a dictionary is created by collecting together 'key-value' pairs using braces : {key1: value1, key2: value2, ...}\n",
        "# and items are accessed using the key as a reference\n",
        "\n",
        "a_dict = {\"name\": \"Alia\", \"age\": 25, \"city\": \"Mumbai\"}\n",
        "print(a_dict)\n",
        "print(a_dict[\"name\"])\n",
        "\n",
        "#print(a_dict[0])  # why does this result in an error?\n",
        "\n",
        "# Adding a new 'key - value' pair into the dictionary\n",
        "a_dict[\"gender\"] = \"F\"\n",
        "print(a_dict)\n",
        "\n",
        "# A dictionary is very useful in the following contexts and applications:\n",
        "#   To create a mapping. Eg. Country -> Capital\n",
        "#   To store processed data. Eg. word frequency {\"and\":250, \"the\":100, \"is\":50}\n",
        "#   Configuration settings. Eg. {\"host\":\"localhost\", \"port\":8080}\n",
        "\n",
        "# All this helps in fast retrieval of data"
      ],
      "metadata": {
        "id": "QkFFr32rltho",
        "colab": {
          "base_uri": "https://localhost:8080/"
        },
        "outputId": "0003d6ea-dc82-4b17-9fcd-9c9f8a9e9fe1"
      },
      "execution_count": null,
      "outputs": [
        {
          "output_type": "stream",
          "name": "stdout",
          "text": [
            "{'name': 'Alia', 'age': 25, 'city': 'Mumbai'}\n",
            "Alia\n",
            "{'name': 'Alia', 'age': 25, 'city': 'Mumbai', 'gender': 'F'}\n"
          ]
        }
      ]
    },
    {
      "cell_type": "code",
      "execution_count": null,
      "metadata": {
        "id": "daA3zZMSNVTq"
      },
      "outputs": [],
      "source": [
        "# dict class is documented at https://docs.python.org/3/library/stdtypes.html#mapping-types-dict\n",
        "# It also lists the built-in and member functions of dictionaries"
      ]
    },
    {
      "cell_type": "markdown",
      "source": [
        "## set\n"
      ],
      "metadata": {
        "id": "bsS5-aH9NVTq"
      }
    },
    {
      "cell_type": "code",
      "source": [
        "\n",
        "# A set is a collection of unique items\n",
        "# Again, it is a special kind of dict, with only 'keys'\n",
        "# In a set, there can be no repetition of items\n",
        "# A set is created using braces : {key1, key2, ...}\n",
        "#   and items are accessed using the index as a reference\n",
        "\n",
        "\n",
        "a_set = {float(1.000), \"two\", '3.14', True}\n",
        "v = list(a_set)\n",
        "print(v)\n",
        "# int(v[0])\n",
        "# print(0.0 in a_set)\n",
        "# print(3.14 in a_set)\n",
        "# print(3.15 in a_set)\n",
        "\n",
        "float(1.000)==True\n",
        "float(1.000)== int(1)\n",
        "# A set is useful wherever it is clear that a collection of items is a mathematical 'set'\n",
        "# and 'set' operations like union, intersection, difference, membership-checks need to be performed\n",
        "# on the collection\n",
        "a = float(1.000)\n",
        "type(a)\n"
      ],
      "metadata": {
        "id": "x6W2CQtSlyDC",
        "colab": {
          "base_uri": "https://localhost:8080/"
        },
        "outputId": "b025328a-3366-49d0-a212-64cc25100914"
      },
      "execution_count": null,
      "outputs": [
        {
          "output_type": "stream",
          "name": "stdout",
          "text": [
            "[1.0, '3.14', 'two']\n"
          ]
        },
        {
          "output_type": "execute_result",
          "data": {
            "text/plain": [
              "float"
            ]
          },
          "metadata": {},
          "execution_count": 3
        }
      ]
    },
    {
      "cell_type": "code",
      "execution_count": null,
      "metadata": {
        "id": "W5w2aEsENVTq",
        "colab": {
          "base_uri": "https://localhost:8080/"
        },
        "outputId": "425fcf1c-303c-4789-a839-a310d3dcc6c5"
      },
      "outputs": [
        {
          "output_type": "stream",
          "name": "stdout",
          "text": [
            "{1, 2, 3, 4, 5, 6}\n",
            "{1, 2, 4, 5, 6}\n",
            "{1, 4, 5, 6}\n",
            "{4, 5, 6}\n",
            "{1, 2, 3, 5, 9}\n",
            "{1}\n",
            "{2, 3}\n",
            "{2, 3, 5, 9}\n"
          ]
        }
      ],
      "source": [
        "# Some quick examples of sets and operations on sets\n",
        "\n",
        "my_set = {1, 2, 3}  # Using curly braces\n",
        "my_set = set([1, 2, 3])  # Using the set() constructor\n",
        "\n",
        "my_set.add(4)  # Adds a single element\n",
        "my_set.update([5, 6])  # Adds multiple elements. Note the use of a 'list' to add multiple elements\n",
        "print(my_set)\n",
        "my_set.remove(3)  # Removes a specific element\n",
        "print(my_set)\n",
        "my_set.discard(2)  # Removes a specific element (no error if not present)\n",
        "print(my_set)\n",
        "d = my_set.pop()  # Removes and returns an arbitrary element\n",
        "print(my_set)\n",
        "# other_set = {3, 4, 5, 6}\n",
        "\n",
        "my_set = {1, 2, 3}\n",
        "other_set = {1, 5, 9}\n",
        "a = my_set.union(other_set)  # Returns a new set with all elements from both sets\n",
        "print(a)\n",
        "b = my_set.intersection(other_set)  # Returns a new set with common elements\n",
        "print(b)\n",
        "c = my_set.difference(other_set)  # Returns a new set with elements in my_set but not in other_set\n",
        "d = my_set.symmetric_difference(other_set)  # Returns a new set with elements in either set but not both\n",
        "print(c)\n",
        "print(d)\n",
        "\n",
        "element = 4\n",
        "element in my_set  # Returns True if element is in the set, False otherwise\n",
        "\n",
        "len(my_set)  # Returns the number of elements in the set\n",
        "my_set.clear()  # Removes all elements from the set"
      ]
    },
    {
      "cell_type": "code",
      "execution_count": null,
      "metadata": {
        "id": "2TxWAmtfNVTq"
      },
      "outputs": [],
      "source": [
        "# That's it, in this module\n",
        "# While we have covered the basic data like strings, numbers, lists, tuples, and dicts\n",
        "# We need to also understand the basic program structure to really get going with Python\n",
        "# That will be the goal of the next unit"
      ]
    },
    {
      "cell_type": "code",
      "source": [
        "# That's it in this unit. More types, built-in functions, and more Python features in the next unit !\n",
        "# In the meantime, go through the following links to learn more ...\n",
        "# https://docs.python.org/3.11/tutorial/appetite.html\n",
        "# https://www.python.org/about/gettingstarted/"
      ],
      "metadata": {
        "id": "f482YIY6jO6T"
      },
      "execution_count": null,
      "outputs": []
    },
    {
      "cell_type": "markdown",
      "source": [
        "# Control Flow in Python\n",
        "\n",
        "Control flow allows you to dictate the execution of your code based on certain conditions or through loops. In this section, we will cover:\n",
        "\n",
        "1. Conditional Statements (`if`, `elif`, `else`)\n",
        "2. Loops (`for` and `while`)\n",
        "3. Special Keywords (`break`, `continue`, `else` with loops)"
      ],
      "metadata": {
        "id": "gSmra3bCmx5b"
      }
    },
    {
      "cell_type": "markdown",
      "source": [
        "## 1. Conditional Statements\n",
        "\n",
        "Conditional statements allow you to execute code blocks based on certain conditions.\n",
        "\n",
        "### Syntax:\n",
        "```python\n",
        "if condition:\n",
        "    # Code block executed if condition is True\n",
        "elif another_condition:\n",
        "    # Code block executed if another_condition is True\n",
        "else:\n",
        "    # Code block executed if none of the above conditions are True\n"
      ],
      "metadata": {
        "id": "6unWEiudP2B8"
      }
    },
    {
      "cell_type": "code",
      "source": [
        "# Example: Check if a number is positive, negative, or zero\n",
        "number = 5#int(input(\"Enter a number: \"))\n",
        "\n",
        "if number == 6:\n",
        "    print(\"The number is positive.\")\n",
        "elif number < 0:\n",
        "    print(\"The number is negative.\")\n",
        "else:\n",
        "    print(\"The number is zero.\")\n"
      ],
      "metadata": {
        "id": "iB0mMIXHm_tD",
        "colab": {
          "base_uri": "https://localhost:8080/"
        },
        "outputId": "a5158141-b790-407b-eab4-5d5391abe54d"
      },
      "execution_count": null,
      "outputs": [
        {
          "output_type": "stream",
          "name": "stdout",
          "text": [
            "The number is zero.\n"
          ]
        }
      ]
    },
    {
      "cell_type": "code",
      "source": [
        "if number == 6:\n",
        "    a = 3\n",
        "else:\n",
        "    a = 0\n",
        "\n",
        "a =  3 if number  == 6 else 0"
      ],
      "metadata": {
        "id": "9Ok8igdcOc97"
      },
      "execution_count": null,
      "outputs": []
    },
    {
      "cell_type": "code",
      "source": [
        "a"
      ],
      "metadata": {
        "colab": {
          "base_uri": "https://localhost:8080/"
        },
        "id": "ik-TvEwCOpWY",
        "outputId": "fb583a86-5d75-4375-b9f8-816094d5bbf5"
      },
      "execution_count": null,
      "outputs": [
        {
          "output_type": "execute_result",
          "data": {
            "text/plain": [
              "0"
            ]
          },
          "metadata": {},
          "execution_count": 8
        }
      ]
    },
    {
      "cell_type": "markdown",
      "source": [
        "## 2. Loops\n",
        "\n",
        "Loops allow you to execute a block of code repeatedly.\n"
      ],
      "metadata": {
        "id": "pCzfuFfDnGBe"
      }
    },
    {
      "cell_type": "markdown",
      "source": [
        "\n",
        "### `for` Loop\n",
        "A `for` loop iterates over a sequence (like a list, string, or range).\n",
        "\n",
        "### Example:\n",
        "Iterate through a list of numbers.\n"
      ],
      "metadata": {
        "id": "1jA1_3b_n6Fx"
      }
    },
    {
      "cell_type": "code",
      "source": [
        "# Example: Using a for loop to iterate through a list\n",
        "\n",
        "numbers = [1, 2, 3, 4, 5]\n",
        "# The following code loops over all elements in numbers.\n",
        "\n",
        "num = 6\n",
        "for num in numbers:\n",
        "    print(f\"Current number: {num}\")\n",
        "\n",
        "\n",
        "# Same functionality can be achieved by using range() iterator as follows:\n",
        "# for num in range(1, 6):\n",
        "#     print(f\"Current number: {num}\")\n",
        "\n",
        "# Where the convention of range(start_index, stop_index, step),\n",
        "# with default value of start_index=0 and\n",
        "# with default value of step=1 and returns the sequence\n",
        "# [start_index, start_index + 1, ..., stop_index - 1)]\n"
      ],
      "metadata": {
        "id": "_NA1W7ggnJL4",
        "colab": {
          "base_uri": "https://localhost:8080/"
        },
        "outputId": "4942ebcc-76d4-4014-ffc4-7219fbb69e81"
      },
      "execution_count": null,
      "outputs": [
        {
          "output_type": "stream",
          "name": "stdout",
          "text": [
            "Current number: 1\n",
            "Current number: 2\n",
            "Current number: 3\n",
            "Current number: 4\n",
            "Current number: 5\n"
          ]
        }
      ]
    },
    {
      "cell_type": "code",
      "source": [
        "# We can iterate over arbitrary objects, such as\n",
        "\n",
        "import time as time\n",
        "\n",
        "start = time.time()\n",
        "for letter in 'a random string':\n",
        "  print(letter)\n",
        "\n",
        "print(time.time()-start)\n",
        "\n",
        "\n",
        "# start = time.time()\n",
        "sl =  list('a random string')\n",
        "print(sl)\n",
        "\n",
        "print(time.time()-start)"
      ],
      "metadata": {
        "id": "yqc8IMpG20n_",
        "colab": {
          "base_uri": "https://localhost:8080/"
        },
        "outputId": "681f920a-0c6d-446d-a1b2-864deec646f4"
      },
      "execution_count": null,
      "outputs": [
        {
          "output_type": "stream",
          "name": "stdout",
          "text": [
            "a\n",
            " \n",
            "r\n",
            "a\n",
            "n\n",
            "d\n",
            "o\n",
            "m\n",
            " \n",
            "s\n",
            "t\n",
            "r\n",
            "i\n",
            "n\n",
            "g\n",
            "0.0054357051849365234\n",
            "['a', ' ', 'r', 'a', 'n', 'd', 'o', 'm', ' ', 's', 't', 'r', 'i', 'n', 'g']\n",
            "0.00016546249389648438\n"
          ]
        }
      ]
    },
    {
      "cell_type": "code",
      "source": [
        "# But beware of the following:\n",
        "# The following loop is iterating over a list which is very different\n",
        "# from iterating over a string\n",
        "\n",
        "for letter in ['a random string']:\n",
        "  print(letter)"
      ],
      "metadata": {
        "id": "7nwb3nKa3A0y",
        "colab": {
          "base_uri": "https://localhost:8080/"
        },
        "outputId": "3f3477ac-05ad-4585-85a3-b1d43dbd0137"
      },
      "execution_count": null,
      "outputs": [
        {
          "output_type": "stream",
          "name": "stdout",
          "text": [
            "a random string\n"
          ]
        }
      ]
    },
    {
      "cell_type": "markdown",
      "source": [
        "### `while` Loop\n",
        "A `while` loop executes as long as the condition is `True`.\n",
        "\n",
        "### Example:\n",
        "Print numbers from 1 to 5 using a `while` loop.\n"
      ],
      "metadata": {
        "id": "xAop4FUVnNA-"
      }
    },
    {
      "cell_type": "code",
      "source": [
        "# Example: Using a while loop\n",
        "# While loop is generally used when it is not known\n",
        "# apriori how many times the loop will run.\n",
        "# The while loop exits whenever the end condition is met\n",
        "\n",
        "count = 1\n",
        "while count <= 5:\n",
        "    print(f\"Count is: {count}\")\n",
        "    count += 1\n"
      ],
      "metadata": {
        "id": "xZuwAs6xnVlB",
        "colab": {
          "base_uri": "https://localhost:8080/"
        },
        "outputId": "bda00a6e-f3bd-4810-aadc-489b6f49843b"
      },
      "execution_count": null,
      "outputs": [
        {
          "output_type": "stream",
          "name": "stdout",
          "text": [
            "Count is: 1\n",
            "Count is: 2\n",
            "Count is: 3\n",
            "Count is: 4\n",
            "Count is: 5\n"
          ]
        }
      ]
    },
    {
      "cell_type": "markdown",
      "source": [
        "## 3. Special Keywords\n",
        "\n",
        "Python provides special keywords for additional control within loops.\n",
        "\n",
        "- `break` :Used to exit a loop immediately.\n",
        "\n",
        "- `continue` :Skips the current iteration and moves to the next.\n",
        "\n",
        "- `else` with Loops: : The `else` block in a loop executes only if the loop completes without a `break`."
      ],
      "metadata": {
        "id": "c7EWfcfknZZz"
      }
    },
    {
      "cell_type": "code",
      "source": [
        "# Example: Using break and continue\n",
        "\n",
        "# The break statement defines an exit point from the loop which may be\n",
        "# different from the main condition of the loop\n",
        "# In the following example, the execution comes out of the loop at num=5\n",
        "# even though the loop is supposed to execute till 10\n",
        "\n",
        "for num in range(1, 10):\n",
        "    if num == 5:\n",
        "        print(\"Breaking the loop at 5.\")\n",
        "        break  # Exit the loop when num is 5\n",
        "    elif num % 2 == 0:\n",
        "        print(f\"Skipping even number: {num}\")\n",
        "        continue  # Skip even numbers\n",
        "    print(f\"Current number: {num}\")\n",
        "\n",
        "\n",
        "# continue: Whenever the continue statement is executed, the control returns to\n",
        "#   the starting point of the loop skipping all the lines following the continue\n",
        "#   statement\n"
      ],
      "metadata": {
        "id": "jLGI9z0ZnfW8",
        "colab": {
          "base_uri": "https://localhost:8080/"
        },
        "outputId": "e78246f9-e766-45bf-9dd6-cfa225c734b6"
      },
      "execution_count": null,
      "outputs": [
        {
          "output_type": "stream",
          "name": "stdout",
          "text": [
            "Current number: 1\n",
            "Skipping even number: 2\n",
            "Current number: 3\n",
            "Skipping even number: 4\n",
            "Breaking the loop at 5.\n"
          ]
        }
      ]
    },
    {
      "cell_type": "markdown",
      "source": [
        "### Example: `else` with Loops\n",
        "Let's see how the `else` block works with loops.\n",
        "\n",
        "If no `break` occurs, the `else` block will execute.\n"
      ],
      "metadata": {
        "id": "s5HKgDoknuee"
      }
    },
    {
      "cell_type": "code",
      "source": [
        "# Example: Using else with loops\n",
        "for num in range(1, 6):\n",
        "    print(f\"Checking number: {num}\")\n",
        "    if num == 10:\n",
        "        print(\"Found 10!\")\n",
        "        break\n",
        "else:\n",
        "    print(\"The loop completed without finding 10.\")\n"
      ],
      "metadata": {
        "id": "BOr6Sy-Inwrd",
        "colab": {
          "base_uri": "https://localhost:8080/"
        },
        "outputId": "374ebe24-c100-4dc0-a284-e16b7ee6da9e"
      },
      "execution_count": null,
      "outputs": [
        {
          "output_type": "stream",
          "name": "stdout",
          "text": [
            "Checking number: 1\n",
            "Checking number: 2\n",
            "Checking number: 3\n",
            "Checking number: 4\n",
            "Checking number: 5\n",
            "The loop completed without finding 10.\n"
          ]
        }
      ]
    },
    {
      "cell_type": "markdown",
      "source": [
        "# Functions in Python\n"
      ],
      "metadata": {
        "id": "p3cSaVc7ox61"
      }
    },
    {
      "cell_type": "markdown",
      "source": [
        "\n",
        "Functions are reusable blocks of code that perform a specific task. They help organize code, avoid repetition, and improve readability.\n",
        "\n",
        "## Why Use Functions?\n",
        "1. **Modularity**: Break tasks into smaller, manageable pieces.\n",
        "2. **Reusability**: Avoid repeating code.\n",
        "3. **Readability**: Make your code easier to understand.\n",
        "\n",
        "In this section, we'll cover:\n",
        "1. Defining and Calling Functions\n",
        "2. Function Parameters and Return Values\n",
        "3. Default and Keyword Arguments\n",
        "4. Variable Scope\n",
        "5. Practical Examples\n"
      ],
      "metadata": {
        "id": "79vlvxwWo0iE"
      }
    },
    {
      "cell_type": "markdown",
      "source": [
        "## 1. Defining and Calling Functions\n",
        "\n",
        "The basic syntax for defining a function is:\n",
        "\n",
        "```python\n",
        "def function_name(parameters):\n",
        "    # Code block\n",
        "    return value\n",
        "```"
      ],
      "metadata": {
        "id": "qXIN24sZpAje"
      }
    },
    {
      "cell_type": "code",
      "source": [
        "# Function to check if a number is even or odd\n",
        "## numc is local to function\n",
        "def check_even_odd(numc):\n",
        "    numc = 3\n",
        "    if numc % 2 == 0:\n",
        "        return f\"{numc} is even.\"\n",
        "    else:\n",
        "        return f\"{numc} is odd.\"\n",
        "\n",
        "# Calling the function\n",
        "print(check_even_odd(10))\n",
        "print(check_even_odd(7))\n",
        "\n",
        "\n",
        "# ii is NOT local to for loop\n",
        "for ii in range(10):\n",
        "  print(ii)\n",
        "\n"
      ],
      "metadata": {
        "id": "bdkM_YADossb",
        "colab": {
          "base_uri": "https://localhost:8080/"
        },
        "outputId": "76904b8b-5490-4c5d-c714-de8a1666a0df"
      },
      "execution_count": null,
      "outputs": [
        {
          "output_type": "stream",
          "name": "stdout",
          "text": [
            "3 is odd.\n",
            "3 is odd.\n",
            "0\n",
            "1\n",
            "2\n",
            "3\n",
            "4\n",
            "5\n",
            "6\n",
            "7\n",
            "8\n",
            "9\n"
          ]
        }
      ]
    },
    {
      "cell_type": "code",
      "source": [
        "def func(x):\n",
        "  a = 0\n",
        "  b = 1\n",
        "  if x == 1:\n",
        "    return\n",
        "    a = b+func(x-1)\n",
        "    return b\n",
        "\n",
        "a  = func(3)\n",
        "print(a)"
      ],
      "metadata": {
        "colab": {
          "base_uri": "https://localhost:8080/"
        },
        "id": "zmt21cuEVz30",
        "outputId": "2bfb3588-0ca2-4908-d2e9-8a43dd1fb75c"
      },
      "execution_count": null,
      "outputs": [
        {
          "output_type": "stream",
          "name": "stdout",
          "text": [
            "None\n"
          ]
        }
      ]
    },
    {
      "cell_type": "markdown",
      "source": [
        "## 2. Function Parameters and Return Values\n",
        "\n",
        "Functions can take multiple parameters and return values.\n"
      ],
      "metadata": {
        "id": "Yk-w-l63pkAF"
      }
    },
    {
      "cell_type": "code",
      "source": [
        "# Function to calculate the area of a rectangle\n",
        "def calculate_area(length, width):\n",
        "    area = length * width\n",
        "    surface = {'len': length, 'wid': width, 'area': area}\n",
        "    # yy = (surface, length, width, area)\n",
        "    return  surface, length, width, area\n",
        "\n",
        "# Calling the function with different arguments\n",
        "print(calculate_area(5, 10))\n",
        "print(calculate_area(7.5, 3))\n",
        "\n",
        "x = calculate_area(5,10)\n",
        "print(x)\n",
        "\n"
      ],
      "metadata": {
        "id": "cbPfZetppnHX",
        "colab": {
          "base_uri": "https://localhost:8080/"
        },
        "outputId": "b0ba6f85-8faa-44fd-d786-35d96000c4a4"
      },
      "execution_count": null,
      "outputs": [
        {
          "output_type": "stream",
          "name": "stdout",
          "text": [
            "({'len': 5, 'wid': 10, 'area': 50}, 5, 10, 50)\n",
            "({'len': 7.5, 'wid': 3, 'area': 22.5}, 7.5, 3, 22.5)\n",
            "({'len': 5, 'wid': 10, 'area': 50}, 5, 10, 50)\n"
          ]
        }
      ]
    },
    {
      "cell_type": "code",
      "source": [],
      "metadata": {
        "colab": {
          "base_uri": "https://localhost:8080/"
        },
        "id": "dEGRXLrRYQ9Y",
        "outputId": "beb2ae0c-246a-4b07-edf2-fd9920d569e1"
      },
      "execution_count": null,
      "outputs": [
        {
          "output_type": "execute_result",
          "data": {
            "text/plain": [
              "({'len': 5, 'wid': 10, 'area': 50}, 5, 10, 50)"
            ]
          },
          "metadata": {},
          "execution_count": 8
        }
      ]
    },
    {
      "cell_type": "markdown",
      "source": [
        "## 3. Default and Keyword Arguments\n",
        "\n",
        "- **Default arguments** allow you to specify default values for parameters.\n",
        "- **Keyword arguments** let you explicitly name parameters when calling a function."
      ],
      "metadata": {
        "id": "whvz355Yppwb"
      }
    },
    {
      "cell_type": "code",
      "source": [
        "# Function to calculate the final price after a discount\n",
        "def calculate_price(price, discount=10):\n",
        "    \"\"\"\n",
        "    Calculate the final price after applying a discount.\n",
        "    price: Original price of the product.\n",
        "    discount: Percentage discount (default: 10%).\n",
        "    \"\"\"\n",
        "    final_price = price - (price * discount / 100)\n",
        "    return f\"The final price is ${final_price:.2f}\"\n",
        "\n",
        "# Using default discount\n",
        "print(calculate_price(100))\n",
        "\n",
        "# Overriding the default discount\n",
        "print(calculate_price(100, discount=20))\n",
        "\n",
        "# Using keyword arguments\n",
        "print(calculate_price(price=250, discount=15))"
      ],
      "metadata": {
        "id": "jwDGvKuFptf_",
        "colab": {
          "base_uri": "https://localhost:8080/"
        },
        "outputId": "44b86c0b-fa8d-409d-f3fe-3e9fabc19e4e"
      },
      "execution_count": null,
      "outputs": [
        {
          "output_type": "stream",
          "name": "stdout",
          "text": [
            "The final price is $90.00\n",
            "The final price is $80.00\n",
            "The final price is $212.50\n"
          ]
        }
      ]
    },
    {
      "cell_type": "markdown",
      "source": [
        "## 4. Variable Scope\n",
        "\n",
        "Scope refers to the accessibility of variables within a program:\n",
        "- **Local Scope**: Variables defined inside a function.\n",
        "- **Global Scope**: Variables defined outside any function."
      ],
      "metadata": {
        "id": "w6pASb-JpxFY"
      }
    },
    {
      "cell_type": "markdown",
      "source": [],
      "metadata": {
        "id": "97Vtlb_UcVO4"
      }
    },
    {
      "cell_type": "code",
      "source": [
        "# Global variable\n",
        "message = \"Global Scope\"\n",
        "\n",
        "def greet():\n",
        "    # Local variable\n",
        "    message = \"Local Scope\"\n",
        "    print(\"Inside function:\", message)\n",
        "\n",
        "# Calling the function\n",
        "greet()\n",
        "print(\"Outside function:\", message)"
      ],
      "metadata": {
        "id": "0jxCVzcvp0s-",
        "colab": {
          "base_uri": "https://localhost:8080/"
        },
        "outputId": "4f71fe74-2543-4abb-ffc7-977946e3c86c"
      },
      "execution_count": null,
      "outputs": [
        {
          "output_type": "stream",
          "name": "stdout",
          "text": [
            "Inside function: Local Scope\n",
            "Outside function: Global Scope\n"
          ]
        }
      ]
    },
    {
      "cell_type": "markdown",
      "source": [
        "## 5. Practical Examples\n",
        "\n",
        "Let's apply functions to real-world scenarios."
      ],
      "metadata": {
        "id": "2NBh4F_8p3ly"
      }
    },
    {
      "cell_type": "code",
      "source": [
        "# Function to check if a string is a palindrome\n",
        "def is_palindrome(string):\n",
        "    string = string.lower().replace(\" \", \"\")  # Normalize the string\n",
        "    return string == string[::-1]\n",
        "\n",
        "# Test cases\n",
        "print(is_palindrome(\"racecar\"))  # True\n",
        "print(is_palindrome(\"hello\"))    # False\n",
        "print(is_palindrome(\"A man a plan a canal Panama\"))  # True\n"
      ],
      "metadata": {
        "id": "M3h0FI-1p7CK",
        "colab": {
          "base_uri": "https://localhost:8080/"
        },
        "outputId": "bfa46a5a-b58a-4eae-cf0b-d07ea73eb337"
      },
      "execution_count": null,
      "outputs": [
        {
          "output_type": "stream",
          "name": "stdout",
          "text": [
            "True\n",
            "False\n",
            "True\n"
          ]
        }
      ]
    },
    {
      "cell_type": "code",
      "source": [
        "# Function to generate Fibonacci sequence\n",
        "def fibonacci(n):\n",
        "    sequence = [0, 1]\n",
        "    for _ in range(2, n):\n",
        "        sequence.append(sequence[-1] + sequence[-2])\n",
        "    return sequence[:n]\n",
        "\n",
        "# Generate the first 10 Fibonacci numbers\n",
        "print(fibonacci(10))"
      ],
      "metadata": {
        "id": "SjOiCG8Up_wH",
        "colab": {
          "base_uri": "https://localhost:8080/"
        },
        "outputId": "3b9eba5c-2737-48b3-83f3-13fe9cf00fc3"
      },
      "execution_count": null,
      "outputs": [
        {
          "output_type": "stream",
          "name": "stdout",
          "text": [
            "[0, 1, 1, 2, 3, 5, 8, 13, 21, 34]\n"
          ]
        }
      ]
    },
    {
      "cell_type": "code",
      "source": [
        "for i in range(20):\n",
        "  print(i)"
      ],
      "metadata": {
        "id": "n5Pv5mjo8Bwa",
        "colab": {
          "base_uri": "https://localhost:8080/"
        },
        "outputId": "fb32d49c-0b48-4cfd-ca5e-cf4a5ae85f06"
      },
      "execution_count": null,
      "outputs": [
        {
          "output_type": "stream",
          "name": "stdout",
          "text": [
            "0\n",
            "1\n",
            "2\n",
            "3\n",
            "4\n",
            "5\n",
            "6\n",
            "7\n",
            "8\n",
            "9\n",
            "10\n",
            "11\n",
            "12\n",
            "13\n",
            "14\n",
            "15\n",
            "16\n",
            "17\n",
            "18\n",
            "19\n"
          ]
        }
      ]
    },
    {
      "cell_type": "code",
      "source": [
        "# generate all combinations from [0,1,..,n] when n is the input"
      ],
      "metadata": {
        "id": "DC72lrejlMSs"
      },
      "execution_count": null,
      "outputs": []
    }
  ]
}